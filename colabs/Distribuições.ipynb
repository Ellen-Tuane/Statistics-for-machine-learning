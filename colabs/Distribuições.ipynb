{
  "nbformat": 4,
  "nbformat_minor": 0,
  "metadata": {
    "colab": {
      "name": "Distribuições.ipynb",
      "provenance": [],
      "collapsed_sections": [
        "2BLirzS1T98j",
        "Lj7WRyupk6-U",
        "Q6YpuctzeiKh",
        "RD0U_cev-Svx",
        "GMhbY9sOEkp4",
        "GydnuNBsLJNn",
        "b7w8EREgciHc",
        "clcXtG1liStO",
        "Xc0ke7RCuobr"
      ],
      "include_colab_link": true
    },
    "kernelspec": {
      "name": "python3",
      "display_name": "Python 3"
    }
  },
  "cells": [
    {
      "cell_type": "markdown",
      "metadata": {
        "id": "view-in-github",
        "colab_type": "text"
      },
      "source": [
        "<a href=\"https://colab.research.google.com/github/Ellen-Tuane/Statistics-for-machine-learning/blob/master/colabs/Distribui%C3%A7%C3%B5es.ipynb\" target=\"_parent\"><img src=\"https://colab.research.google.com/assets/colab-badge.svg\" alt=\"Open In Colab\"/></a>"
      ]
    },
    {
      "cell_type": "markdown",
      "metadata": {
        "id": "Nl-p9kheMUPv"
      },
      "source": [
        "# Distribuições"
      ]
    },
    {
      "cell_type": "markdown",
      "metadata": {
        "id": "Heuk5btoMq-m"
      },
      "source": [
        "## Bibliotecas"
      ]
    },
    {
      "cell_type": "code",
      "metadata": {
        "id": "AURE4vIFMHZj"
      },
      "source": [
        "import numpy as np\n",
        "import seaborn as sns\n",
        "import pandas as pd\n",
        "from scipy import stats"
      ],
      "execution_count": null,
      "outputs": []
    },
    {
      "cell_type": "markdown",
      "metadata": {
        "id": "2BLirzS1T98j"
      },
      "source": [
        "## Variáveis contínuas"
      ]
    },
    {
      "cell_type": "markdown",
      "metadata": {
        "id": "Dy_LZ1xwMWV5"
      },
      "source": [
        "### Distribuição normal - Gaussian distribution (bell)"
      ]
    },
    {
      "cell_type": "code",
      "metadata": {
        "id": "gjLR9zzmMfwO"
      },
      "source": [
        "dados_normal = stats.norm.rvs(size = 1000, random_state = 1)"
      ],
      "execution_count": null,
      "outputs": []
    },
    {
      "cell_type": "code",
      "metadata": {
        "id": "Z0oha9AOM0oG"
      },
      "source": [
        "min(dados_normal), max(dados_normal)"
      ],
      "execution_count": null,
      "outputs": []
    },
    {
      "cell_type": "code",
      "metadata": {
        "id": "DndkKl8_M8ow"
      },
      "source": [
        "sns.distplot(dados_normal, hist = True, kde = True);"
      ],
      "execution_count": null,
      "outputs": []
    },
    {
      "cell_type": "code",
      "metadata": {
        "id": "ATsikNA2NhwR"
      },
      "source": [
        "dados_normal.mean(), np.median(dados_normal), stats.mode(dados_normal), np.var(dados_normal), np.std(dados_normal)"
      ],
      "execution_count": null,
      "outputs": []
    },
    {
      "cell_type": "code",
      "metadata": {
        "id": "9GcueAjOOS18"
      },
      "source": [
        "np.sum(((dados_normal >= 0.9810041339322116) & (dados_normal <= 0.9810041339322116 + 1)))"
      ],
      "execution_count": null,
      "outputs": []
    },
    {
      "cell_type": "code",
      "metadata": {
        "id": "PlyC6YPwOmVQ"
      },
      "source": [
        "np.sum(((dados_normal <= 0.9810041339322116) & (dados_normal >= 0.9810041339322116 - 1)))"
      ],
      "execution_count": null,
      "outputs": []
    },
    {
      "cell_type": "code",
      "metadata": {
        "id": "qBkgVlvIO8Fe"
      },
      "source": [
        "(148 + 353) / 1000"
      ],
      "execution_count": null,
      "outputs": []
    },
    {
      "cell_type": "markdown",
      "metadata": {
        "id": "U8UpcyBzq512"
      },
      "source": [
        "### Distribuição normal com dados das alturas"
      ]
    },
    {
      "cell_type": "code",
      "metadata": {
        "id": "amRzlytOPXuO"
      },
      "source": [
        "dados = np.array([126. , 129.5, 133. , 133. , 136.5, 136.5, 140. , 140. , 140. ,\n",
        "                  140. , 143.5, 143.5, 143.5, 143.5, 143.5, 143.5, 147. , 147. ,\n",
        "                  147. , 147. , 147. , 147. , 147. , 150.5, 150.5, 150.5, 150.5,\n",
        "                  150.5, 150.5, 150.5, 150.5, 154. , 154. , 154. , 154. , 154. ,\n",
        "                  154. , 154. , 154. , 154. , 157.5, 157.5, 157.5, 157.5, 157.5,\n",
        "                  157.5, 157.5, 157.5, 157.5, 157.5, 161. , 161. , 161. , 161. ,\n",
        "                  161. , 161. , 161. , 161. , 161. , 161. , 164.5, 164.5, 164.5,\n",
        "                  164.5, 164.5, 164.5, 164.5, 164.5, 164.5, 168. , 168. , 168. ,\n",
        "                  168. , 168. , 168. , 168. , 168. , 171.5, 171.5, 171.5, 171.5,\n",
        "                  171.5, 171.5, 171.5, 175. , 175. , 175. , 175. , 175. , 175. ,\n",
        "                  178.5, 178.5, 178.5, 178.5, 182. , 182. , 185.5, 185.5, 189., 192.5])"
      ],
      "execution_count": null,
      "outputs": []
    },
    {
      "cell_type": "code",
      "metadata": {
        "id": "55z-2h_6Pug9"
      },
      "source": [
        "len(dados)"
      ],
      "execution_count": null,
      "outputs": []
    },
    {
      "cell_type": "code",
      "metadata": {
        "id": "z58Tx2tFP1Gu"
      },
      "source": [
        "min(dados), max(dados)"
      ],
      "execution_count": null,
      "outputs": []
    },
    {
      "cell_type": "code",
      "metadata": {
        "id": "OZkWrwPpP8LJ"
      },
      "source": [
        "dados.mean()"
      ],
      "execution_count": null,
      "outputs": []
    },
    {
      "cell_type": "code",
      "metadata": {
        "id": "AqkAjrxmP_g-"
      },
      "source": [
        "np.median(dados)"
      ],
      "execution_count": null,
      "outputs": []
    },
    {
      "cell_type": "code",
      "metadata": {
        "id": "yFtsTvYHQEdg"
      },
      "source": [
        "stats.mode(dados)"
      ],
      "execution_count": null,
      "outputs": []
    },
    {
      "cell_type": "code",
      "metadata": {
        "id": "ZNrQx6xQQhdY"
      },
      "source": [
        "159.25 + 13.65, 159.25 - 13.65"
      ],
      "execution_count": null,
      "outputs": []
    },
    {
      "cell_type": "code",
      "metadata": {
        "id": "YIcXjLRHQM46"
      },
      "source": [
        "np.var(dados), np.std(dados), stats.variation(dados) * 100"
      ],
      "execution_count": null,
      "outputs": []
    },
    {
      "cell_type": "code",
      "metadata": {
        "id": "W6-bDaN1Qtr5"
      },
      "source": [
        "sns.distplot(dados);"
      ],
      "execution_count": null,
      "outputs": []
    },
    {
      "cell_type": "markdown",
      "metadata": {
        "id": "Lj7WRyupk6-U"
      },
      "source": [
        "### Enviesamento"
      ]
    },
    {
      "cell_type": "code",
      "metadata": {
        "id": "6LaEIB6ES70v"
      },
      "source": [
        "from scipy.stats import skewnorm"
      ],
      "execution_count": null,
      "outputs": []
    },
    {
      "cell_type": "code",
      "metadata": {
        "id": "HmhZu6-CTCDG"
      },
      "source": [
        "dados_normal = skewnorm.rvs(a = 0, size = 1000)"
      ],
      "execution_count": null,
      "outputs": []
    },
    {
      "cell_type": "code",
      "metadata": {
        "id": "N_CXKu2zTMr3"
      },
      "source": [
        "sns.distplot(dados_normal);"
      ],
      "execution_count": null,
      "outputs": []
    },
    {
      "cell_type": "code",
      "metadata": {
        "id": "P8zMrvaXTR4Y"
      },
      "source": [
        "dados_normal.mean(), np.median(dados_normal), stats.mode(dados_normal)"
      ],
      "execution_count": null,
      "outputs": []
    },
    {
      "cell_type": "code",
      "metadata": {
        "id": "NqqBlTCJTn1T"
      },
      "source": [
        "dados_normal_positivo = skewnorm.rvs(a = 10, size = 1000)\n",
        "sns.distplot(dados_normal_positivo);"
      ],
      "execution_count": null,
      "outputs": []
    },
    {
      "cell_type": "code",
      "metadata": {
        "id": "DLgVRCkAT6D0"
      },
      "source": [
        "dados_normal_positivo.mean(), np.median(dados_normal_positivo), stats.mode(dados_normal_positivo)"
      ],
      "execution_count": null,
      "outputs": []
    },
    {
      "cell_type": "code",
      "metadata": {
        "id": "fxkfQMvzUOyn"
      },
      "source": [
        "dados_normal_negativo = skewnorm.rvs(-10, size = 1000)\n",
        "sns.distplot(dados_normal_negativo);"
      ],
      "execution_count": null,
      "outputs": []
    },
    {
      "cell_type": "code",
      "metadata": {
        "id": "IFOPzVdnUbQC"
      },
      "source": [
        "dados_normal_negativo.mean(), np.median(dados_normal_negativo), stats.mode(dados_normal_negativo)"
      ],
      "execution_count": null,
      "outputs": []
    },
    {
      "cell_type": "markdown",
      "metadata": {
        "id": "Q6YpuctzeiKh"
      },
      "source": [
        "### Distribuição normal padronizada"
      ]
    },
    {
      "cell_type": "code",
      "metadata": {
        "id": "00LaJvOWWmAh"
      },
      "source": [
        "dados_normal_padronizada = np.random.standard_normal(size = 1000)"
      ],
      "execution_count": null,
      "outputs": []
    },
    {
      "cell_type": "code",
      "metadata": {
        "id": "OpA7IjBhWxvT"
      },
      "source": [
        "min(dados_normal_padronizada), max(dados_normal_padronizada)"
      ],
      "execution_count": null,
      "outputs": []
    },
    {
      "cell_type": "code",
      "metadata": {
        "id": "3s9yPrDzW3sO"
      },
      "source": [
        "sns.distplot(dados_normal_padronizada);"
      ],
      "execution_count": null,
      "outputs": []
    },
    {
      "cell_type": "code",
      "metadata": {
        "id": "HMz-9cEIXC13"
      },
      "source": [
        "dados_normal_padronizada.mean(), np.std(dados_normal_padronizada)"
      ],
      "execution_count": null,
      "outputs": []
    },
    {
      "cell_type": "code",
      "metadata": {
        "id": "ZAVVAup6XYU2"
      },
      "source": [
        "dados"
      ],
      "execution_count": null,
      "outputs": []
    },
    {
      "cell_type": "code",
      "metadata": {
        "id": "wPr10k5TXdNW"
      },
      "source": [
        "media = dados.mean()\n",
        "media"
      ],
      "execution_count": null,
      "outputs": []
    },
    {
      "cell_type": "code",
      "metadata": {
        "id": "wrzyIMg8Xgkz"
      },
      "source": [
        "desvio_padrao = np.std(dados)\n",
        "desvio_padrao"
      ],
      "execution_count": null,
      "outputs": []
    },
    {
      "cell_type": "code",
      "metadata": {
        "id": "gcVcj7_jXpSs"
      },
      "source": [
        "dados_padronizados = (dados - media) / desvio_padrao\n",
        "dados_padronizados"
      ],
      "execution_count": null,
      "outputs": []
    },
    {
      "cell_type": "code",
      "metadata": {
        "id": "2s1qPeFBXyUa"
      },
      "source": [
        "dados_padronizados.mean(), np.std(dados_padronizados)"
      ],
      "execution_count": null,
      "outputs": []
    },
    {
      "cell_type": "code",
      "metadata": {
        "id": "JwK1GcTIYDC4"
      },
      "source": [
        "sns.distplot(dados_padronizados);"
      ],
      "execution_count": null,
      "outputs": []
    },
    {
      "cell_type": "markdown",
      "metadata": {
        "id": "RD0U_cev-Svx"
      },
      "source": [
        "### Teorema central do limite\n",
        "\n",
        "- Quando o tamanho da amostra aumenta, a distribuição amostral da sua média aproxima-se cada vez mais de uma distribuição normal"
      ]
    },
    {
      "cell_type": "code",
      "metadata": {
        "id": "wnc1ed7ZYr3K"
      },
      "source": [
        "alturas = np.random.randint(126, 192, 500)\n",
        "alturas.mean()"
      ],
      "execution_count": null,
      "outputs": []
    },
    {
      "cell_type": "code",
      "metadata": {
        "id": "NbjPD7ZdZDuQ"
      },
      "source": [
        "sns.distplot(alturas)"
      ],
      "execution_count": null,
      "outputs": []
    },
    {
      "cell_type": "code",
      "metadata": {
        "id": "IHzn9VUFZUju"
      },
      "source": [
        "medias = [np.mean(np.random.randint(126, 192, 500)) for _ in range(1000)]"
      ],
      "execution_count": null,
      "outputs": []
    },
    {
      "cell_type": "code",
      "metadata": {
        "id": "9X9poFxZZv7N"
      },
      "source": [
        "type(medias), len(medias)"
      ],
      "execution_count": null,
      "outputs": []
    },
    {
      "cell_type": "code",
      "metadata": {
        "id": "5QFji2oVZzg7"
      },
      "source": [
        "print(medias)"
      ],
      "execution_count": null,
      "outputs": []
    },
    {
      "cell_type": "code",
      "metadata": {
        "id": "U-IzcN4AZ2nq"
      },
      "source": [
        "sns.distplot(medias);"
      ],
      "execution_count": null,
      "outputs": []
    },
    {
      "cell_type": "markdown",
      "metadata": {
        "id": "lJDetVizgAKp"
      },
      "source": [
        "### Distribuição gamma\n",
        "\n",
        "- Distribuição geral com valores assimétricos à direita\n",
        "- Análise de tempo de vida de produtos\n",
        "- Inadimplência com valores agregados\n",
        "- Quantidade de chuva acumulada em um reservatório\n",
        "- Tempo de reação de um motorista de acordo com a idade"
      ]
    },
    {
      "cell_type": "code",
      "metadata": {
        "id": "gncdL30b91me"
      },
      "source": [
        "from scipy.stats import gamma"
      ],
      "execution_count": null,
      "outputs": []
    },
    {
      "cell_type": "code",
      "metadata": {
        "id": "IzVzQj1C-sSz"
      },
      "source": [
        "dados_gama = gamma.rvs(a = 5, size = 1000)"
      ],
      "execution_count": null,
      "outputs": []
    },
    {
      "cell_type": "code",
      "metadata": {
        "id": "NxpComQa-0HW"
      },
      "source": [
        "sns.distplot(dados_gama);"
      ],
      "execution_count": null,
      "outputs": []
    },
    {
      "cell_type": "code",
      "metadata": {
        "id": "_5fysL6Y_tdY"
      },
      "source": [
        "min(dados_gama), max(dados_gama)"
      ],
      "execution_count": null,
      "outputs": []
    },
    {
      "cell_type": "markdown",
      "metadata": {
        "id": "bXAndLXAAJpp"
      },
      "source": [
        "### Distribuição exponencial\n",
        "\n",
        "- É um tipo da distribuição gama\n",
        "- Tempo de vida de certos produtos e materiais\n",
        "- Tempo de vida de óleos isolantes e dielétricos, entre outros"
      ]
    },
    {
      "cell_type": "code",
      "metadata": {
        "id": "zEVD0cVbAKde"
      },
      "source": [
        "from scipy.stats import expon"
      ],
      "execution_count": null,
      "outputs": []
    },
    {
      "cell_type": "code",
      "metadata": {
        "id": "ZgHtnCWJAb7_"
      },
      "source": [
        "dados_exponencial = expon.rvs(size = 1000)"
      ],
      "execution_count": null,
      "outputs": []
    },
    {
      "cell_type": "code",
      "metadata": {
        "id": "SGLpOCVrAiFW"
      },
      "source": [
        "sns.distplot(dados_exponencial);"
      ],
      "execution_count": null,
      "outputs": []
    },
    {
      "cell_type": "code",
      "metadata": {
        "id": "4vqU927rAwzd"
      },
      "source": [
        "min(dados_exponencial), max(dados_exponencial)"
      ],
      "execution_count": null,
      "outputs": []
    },
    {
      "cell_type": "markdown",
      "metadata": {
        "id": "1KzQWMuyBGD5"
      },
      "source": [
        "### Distribuição uniforme\n",
        "\n",
        "- Os números da distribuição possuem a mesma probabilidade\n",
        "- Probabilidade de peças com defeitos em um lote com determinada quantidade de peças\n",
        "- Geração de números aleatórios em linguagens de programação"
      ]
    },
    {
      "cell_type": "code",
      "metadata": {
        "id": "osIrxTmJBH9T"
      },
      "source": [
        "from scipy.stats import uniform"
      ],
      "execution_count": null,
      "outputs": []
    },
    {
      "cell_type": "code",
      "metadata": {
        "id": "LS6WGwZ7BXLV"
      },
      "source": [
        "dados_uniforme = uniform.rvs(size = 1000)"
      ],
      "execution_count": null,
      "outputs": []
    },
    {
      "cell_type": "code",
      "metadata": {
        "id": "6XF8nJhvBeAM"
      },
      "source": [
        "sns.distplot(dados_uniforme);"
      ],
      "execution_count": null,
      "outputs": []
    },
    {
      "cell_type": "code",
      "metadata": {
        "id": "P35bL_CsB0kM"
      },
      "source": [
        "min(dados_uniforme), max(dados_uniforme)"
      ],
      "execution_count": null,
      "outputs": []
    },
    {
      "cell_type": "code",
      "metadata": {
        "id": "6z-SnfKHB5TX"
      },
      "source": [
        "np.unique(dados_uniforme, return_counts=True)"
      ],
      "execution_count": null,
      "outputs": []
    },
    {
      "cell_type": "code",
      "metadata": {
        "id": "x8vM8z4sCcB9"
      },
      "source": [
        "dataset = pd.read_csv('credit_data.csv')\n",
        "dataset.dropna(inplace=True)\n",
        "dataset.shape"
      ],
      "execution_count": null,
      "outputs": []
    },
    {
      "cell_type": "code",
      "metadata": {
        "id": "UsaCLFHPCtdY"
      },
      "source": [
        "dataset.head()"
      ],
      "execution_count": null,
      "outputs": []
    },
    {
      "cell_type": "code",
      "metadata": {
        "id": "tN3wtODKCgVT"
      },
      "source": [
        "X = dataset.iloc[:, 1:4].values\n",
        "X"
      ],
      "execution_count": null,
      "outputs": []
    },
    {
      "cell_type": "code",
      "metadata": {
        "id": "igaSLJZ1CjT_"
      },
      "source": [
        "y = dataset.iloc[:, 4].values\n",
        "y"
      ],
      "execution_count": null,
      "outputs": []
    },
    {
      "cell_type": "code",
      "metadata": {
        "id": "HN7anuwLClfN"
      },
      "source": [
        "from sklearn.naive_bayes import GaussianNB\n",
        "from sklearn.metrics import accuracy_score\n",
        "from sklearn.model_selection import train_test_split"
      ],
      "execution_count": null,
      "outputs": []
    },
    {
      "cell_type": "code",
      "metadata": {
        "id": "YIsH_qSYCnsW"
      },
      "source": [
        "resultados_naive_bayes = []\n",
        "for i in range(30):\n",
        "  X_treinamento, X_teste, y_treinamento, y_teste = train_test_split(X, y, test_size = 0.2, \n",
        "                                                                    stratify = y, random_state = i)\n",
        "  naive_bayes = GaussianNB()\n",
        "  naive_bayes.fit(X_treinamento, y_treinamento)\n",
        "  resultados_naive_bayes.append(accuracy_score(y_teste, naive_bayes.predict(X_teste)))"
      ],
      "execution_count": null,
      "outputs": []
    },
    {
      "cell_type": "code",
      "metadata": {
        "id": "eJc6pOKnCqBv"
      },
      "source": [
        "print(resultados_naive_bayes)"
      ],
      "execution_count": null,
      "outputs": []
    },
    {
      "cell_type": "code",
      "metadata": {
        "id": "4lilyqspDnxw"
      },
      "source": [
        "sns.distplot(resultados_naive_bayes, bins = 10);"
      ],
      "execution_count": null,
      "outputs": []
    },
    {
      "cell_type": "markdown",
      "metadata": {
        "id": "GMhbY9sOEkp4"
      },
      "source": [
        "## Variáveis discretas"
      ]
    },
    {
      "cell_type": "markdown",
      "metadata": {
        "id": "e7ts59nMEoZa"
      },
      "source": [
        "### Distribuição de Bernoulli\n",
        "\n",
        "- Tipo específico da distribuição binomial\n",
        "- Possui somente duas respostas: sucesso ou fracasso"
      ]
    },
    {
      "cell_type": "code",
      "metadata": {
        "id": "FIxlT_bEFStG"
      },
      "source": [
        "from scipy.stats import bernoulli"
      ],
      "execution_count": null,
      "outputs": []
    },
    {
      "cell_type": "code",
      "metadata": {
        "id": "ksh3Rt9ZFcG7"
      },
      "source": [
        "dados_bernoulli = bernoulli.rvs(size = 1000, p = 0.3)"
      ],
      "execution_count": null,
      "outputs": []
    },
    {
      "cell_type": "code",
      "metadata": {
        "id": "-X3T8hioFo-P"
      },
      "source": [
        "dados_bernoulli"
      ],
      "execution_count": null,
      "outputs": []
    },
    {
      "cell_type": "code",
      "metadata": {
        "id": "0INMyN1bFvHd"
      },
      "source": [
        "np.unique(dados_bernoulli, return_counts=True)"
      ],
      "execution_count": null,
      "outputs": []
    },
    {
      "cell_type": "code",
      "metadata": {
        "id": "_gMEZCqvF6kM"
      },
      "source": [
        "sns.distplot(dados_bernoulli, kde=False);"
      ],
      "execution_count": null,
      "outputs": []
    },
    {
      "cell_type": "markdown",
      "metadata": {
        "id": "NP48hJGkGinV"
      },
      "source": [
        "### Distribuição binomial\n",
        "\n",
        "- Somente duas possibilidades (sucesso ou falha)\n",
        "- Probabilidade de sucesso ou falha"
      ]
    },
    {
      "cell_type": "code",
      "metadata": {
        "id": "f-eSsGCPGjas"
      },
      "source": [
        "from scipy.stats import binom"
      ],
      "execution_count": null,
      "outputs": []
    },
    {
      "cell_type": "code",
      "metadata": {
        "id": "_-qjAVP1HtJq"
      },
      "source": [
        "dados_binomial = binom.rvs(size = 1000, n = 10, p = 0.8)"
      ],
      "execution_count": null,
      "outputs": []
    },
    {
      "cell_type": "code",
      "metadata": {
        "id": "weS-b3yWIKxu"
      },
      "source": [
        "np.unique(dados_binomial, return_counts=True)"
      ],
      "execution_count": null,
      "outputs": []
    },
    {
      "cell_type": "code",
      "metadata": {
        "id": "aFSlHX4bH7lj"
      },
      "source": [
        "print(dados_binomial)"
      ],
      "execution_count": null,
      "outputs": []
    },
    {
      "cell_type": "code",
      "metadata": {
        "id": "CbNwwvI0Igoj"
      },
      "source": [
        "sns.distplot(dados_binomial, kde=False);"
      ],
      "execution_count": null,
      "outputs": []
    },
    {
      "cell_type": "markdown",
      "metadata": {
        "id": "uAQ9mvfwJfeT"
      },
      "source": [
        "### Distribuição de Poisson\n",
        "\n",
        "- Número de vezes que um evento aconteceu em um intervalo de tempo\n",
        "- Exemplo: número de usuários que visitaram um website em um intervalo\n",
        "- Quantidade de vezes que um evento aconteceu nesse intervalo (número de ligações em um call center)"
      ]
    },
    {
      "cell_type": "code",
      "metadata": {
        "id": "1ifxy60QJgQN"
      },
      "source": [
        "from scipy.stats import poisson"
      ],
      "execution_count": null,
      "outputs": []
    },
    {
      "cell_type": "code",
      "metadata": {
        "id": "otMfBUO-J0Cr"
      },
      "source": [
        "dados_poisson = poisson.rvs(size = 1000, mu = 1)"
      ],
      "execution_count": null,
      "outputs": []
    },
    {
      "cell_type": "code",
      "metadata": {
        "id": "uhSNa_CiJ7ju"
      },
      "source": [
        "min(dados_poisson), max(dados_poisson)"
      ],
      "execution_count": null,
      "outputs": []
    },
    {
      "cell_type": "code",
      "metadata": {
        "id": "1TRc7qrVKO7f"
      },
      "source": [
        "np.unique(dados_poisson, return_counts=True)"
      ],
      "execution_count": null,
      "outputs": []
    },
    {
      "cell_type": "code",
      "metadata": {
        "id": "BJ6bYaEyKVmo"
      },
      "source": [
        "sns.distplot(dados_poisson, kde=False);"
      ],
      "execution_count": null,
      "outputs": []
    },
    {
      "cell_type": "markdown",
      "metadata": {
        "id": "GydnuNBsLJNn"
      },
      "source": [
        "## Exercício"
      ]
    },
    {
      "cell_type": "code",
      "metadata": {
        "id": "1MCrTfxwLKm2"
      },
      "source": [
        "dataset = pd.read_csv('census.csv')\n",
        "dataset.head()"
      ],
      "execution_count": null,
      "outputs": []
    },
    {
      "cell_type": "code",
      "metadata": {
        "id": "u_T64Jx5LPPZ"
      },
      "source": [
        "dataset.dtypes"
      ],
      "execution_count": null,
      "outputs": []
    },
    {
      "cell_type": "code",
      "metadata": {
        "id": "OYRKJKkVLQ-z"
      },
      "source": [
        "sns.distplot(dataset['age']);"
      ],
      "execution_count": null,
      "outputs": []
    },
    {
      "cell_type": "code",
      "metadata": {
        "id": "cyzW0Xo_LSzv"
      },
      "source": [
        "sns.distplot(dataset['final-weight']);"
      ],
      "execution_count": null,
      "outputs": []
    },
    {
      "cell_type": "code",
      "metadata": {
        "id": "amXHpozmLU4H"
      },
      "source": [
        "sns.distplot(dataset['education-num'], kde=False);"
      ],
      "execution_count": null,
      "outputs": []
    },
    {
      "cell_type": "code",
      "metadata": {
        "id": "Sdh9wlz_LXNB"
      },
      "source": [
        "sns.distplot(dataset['capital-gain'], kde=False);"
      ],
      "execution_count": null,
      "outputs": []
    },
    {
      "cell_type": "code",
      "metadata": {
        "id": "syK9Idv7LZIJ"
      },
      "source": [
        "sns.distplot(dataset['capital-loos']);"
      ],
      "execution_count": null,
      "outputs": []
    },
    {
      "cell_type": "code",
      "metadata": {
        "id": "katShE0hLa04"
      },
      "source": [
        "sns.distplot(dataset['hour-per-week'], kde=False);"
      ],
      "execution_count": null,
      "outputs": []
    },
    {
      "cell_type": "code",
      "metadata": {
        "id": "1rdONge-Lcei"
      },
      "source": [
        "sns.countplot(dataset['marital-status']);"
      ],
      "execution_count": null,
      "outputs": []
    },
    {
      "cell_type": "code",
      "metadata": {
        "id": "tvsdv8DTLd9T"
      },
      "source": [
        "sns.countplot(dataset['sex']);"
      ],
      "execution_count": null,
      "outputs": []
    },
    {
      "cell_type": "code",
      "metadata": {
        "id": "lAzQd_qyLfnK"
      },
      "source": [
        "sns.countplot(dataset['income']);"
      ],
      "execution_count": null,
      "outputs": []
    },
    {
      "cell_type": "code",
      "metadata": {
        "id": "PG8vCq5HLhLQ"
      },
      "source": [
        "dataset = pd.read_csv('credit_data.csv')\n",
        "dataset.head()"
      ],
      "execution_count": null,
      "outputs": []
    },
    {
      "cell_type": "code",
      "metadata": {
        "id": "1MylTXhCLlZO"
      },
      "source": [
        "sns.distplot(dataset['income']);"
      ],
      "execution_count": null,
      "outputs": []
    },
    {
      "cell_type": "code",
      "metadata": {
        "id": "w6YKGfreLm-N"
      },
      "source": [
        "sns.distplot(dataset['age']);"
      ],
      "execution_count": null,
      "outputs": []
    },
    {
      "cell_type": "code",
      "metadata": {
        "id": "Q1aD-d8zLorx"
      },
      "source": [
        "sns.distplot(dataset['loan']);"
      ],
      "execution_count": null,
      "outputs": []
    },
    {
      "cell_type": "code",
      "metadata": {
        "id": "K203LKkKLqtm"
      },
      "source": [
        "sns.distplot(dataset['c#default'], kde = False);"
      ],
      "execution_count": null,
      "outputs": []
    },
    {
      "cell_type": "markdown",
      "metadata": {
        "id": "b7w8EREgciHc"
      },
      "source": [
        "## Naïve Bayes e distribuições"
      ]
    },
    {
      "cell_type": "markdown",
      "metadata": {
        "id": "ENwT2TgIckcD"
      },
      "source": [
        "### Bernoulli"
      ]
    },
    {
      "cell_type": "code",
      "metadata": {
        "id": "ZLeyKQsqdBIA"
      },
      "source": [
        "from sklearn.naive_bayes import BernoulliNB\n",
        "from sklearn.metrics import accuracy_score"
      ],
      "execution_count": null,
      "outputs": []
    },
    {
      "cell_type": "code",
      "metadata": {
        "id": "c9eQASGhdjTD"
      },
      "source": [
        "dataset = pd.read_csv('census.csv')\n",
        "dataset.head()"
      ],
      "execution_count": null,
      "outputs": []
    },
    {
      "cell_type": "code",
      "metadata": {
        "id": "22thgZ49d3W_"
      },
      "source": [
        "dataset['sex'].unique()"
      ],
      "execution_count": null,
      "outputs": []
    },
    {
      "cell_type": "code",
      "metadata": {
        "id": "NfURIbZ5d-YY"
      },
      "source": [
        "X = dataset['sex'].values\n",
        "X"
      ],
      "execution_count": null,
      "outputs": []
    },
    {
      "cell_type": "code",
      "metadata": {
        "id": "RjvwypDqeGyr"
      },
      "source": [
        "from sklearn.preprocessing import LabelEncoder\n",
        "label_encoder = LabelEncoder()\n",
        "X = label_encoder.fit_transform(X)"
      ],
      "execution_count": null,
      "outputs": []
    },
    {
      "cell_type": "code",
      "metadata": {
        "id": "tRxHvcv5eULZ"
      },
      "source": [
        "X, np.unique(X)"
      ],
      "execution_count": null,
      "outputs": []
    },
    {
      "cell_type": "code",
      "metadata": {
        "id": "_HuNVVrreddn"
      },
      "source": [
        "sns.distplot(X, kde=False);"
      ],
      "execution_count": null,
      "outputs": []
    },
    {
      "cell_type": "code",
      "metadata": {
        "id": "pZytCR4gelER"
      },
      "source": [
        "X.shape"
      ],
      "execution_count": null,
      "outputs": []
    },
    {
      "cell_type": "code",
      "metadata": {
        "id": "Wk7uTvoEeo2R"
      },
      "source": [
        "X = X.reshape(-1, 1)\n",
        "X.shape"
      ],
      "execution_count": null,
      "outputs": []
    },
    {
      "cell_type": "code",
      "metadata": {
        "id": "P_bcd7mBexBO"
      },
      "source": [
        "y = dataset['income'].values\n",
        "y"
      ],
      "execution_count": null,
      "outputs": []
    },
    {
      "cell_type": "code",
      "metadata": {
        "id": "VsRRqmNne4QW"
      },
      "source": [
        "bernoulli_naive_bayes = BernoulliNB()\n",
        "bernoulli_naive_bayes.fit(X, y)"
      ],
      "execution_count": null,
      "outputs": []
    },
    {
      "cell_type": "code",
      "metadata": {
        "id": "65NyzSiRfA9K"
      },
      "source": [
        "previsoes = bernoulli_naive_bayes.predict(X)"
      ],
      "execution_count": null,
      "outputs": []
    },
    {
      "cell_type": "code",
      "metadata": {
        "id": "PEiRBVhHfE_v"
      },
      "source": [
        "previsoes, y"
      ],
      "execution_count": null,
      "outputs": []
    },
    {
      "cell_type": "code",
      "metadata": {
        "id": "1mKizzajfPxR"
      },
      "source": [
        "accuracy_score(y, previsoes)"
      ],
      "execution_count": null,
      "outputs": []
    },
    {
      "cell_type": "markdown",
      "metadata": {
        "id": "JyP7381UcozG"
      },
      "source": [
        "### Multinomial"
      ]
    },
    {
      "cell_type": "code",
      "metadata": {
        "id": "9ios0Cshftzu"
      },
      "source": [
        "from sklearn.naive_bayes import MultinomialNB"
      ],
      "execution_count": null,
      "outputs": []
    },
    {
      "cell_type": "code",
      "metadata": {
        "id": "rLVBdi8Jf1vQ"
      },
      "source": [
        "dataset = pd.read_csv('census.csv')\n",
        "dataset.head()"
      ],
      "execution_count": null,
      "outputs": []
    },
    {
      "cell_type": "code",
      "metadata": {
        "id": "c0RLMJj0gSNH"
      },
      "source": [
        "from sklearn.preprocessing import LabelEncoder\n",
        "label_encoder0 = LabelEncoder()\n",
        "label_encoder1 = LabelEncoder()\n",
        "label_encoder2 = LabelEncoder()\n",
        "label_encoder3 = LabelEncoder()\n",
        "label_encoder4 = LabelEncoder()\n",
        "label_encoder5 = LabelEncoder()\n",
        "label_encoder6 = LabelEncoder()"
      ],
      "execution_count": null,
      "outputs": []
    },
    {
      "cell_type": "code",
      "metadata": {
        "id": "P78YcB-rgjql"
      },
      "source": [
        "dataset['workclass'] = label_encoder0.fit_transform(dataset['workclass'])\n",
        "dataset['education'] = label_encoder1.fit_transform(dataset['education'])\n",
        "dataset['marital-status'] = label_encoder2.fit_transform(dataset['marital-status'])\n",
        "dataset['occupation'] = label_encoder3.fit_transform(dataset['occupation'])\n",
        "dataset['relationship'] = label_encoder4.fit_transform(dataset['relationship'])\n",
        "dataset['race'] = label_encoder5.fit_transform(dataset['race'])\n",
        "dataset['native-country'] = label_encoder6.fit_transform(dataset['native-country'])"
      ],
      "execution_count": null,
      "outputs": []
    },
    {
      "cell_type": "code",
      "metadata": {
        "id": "13vC6NNuhCDz"
      },
      "source": [
        "dataset.head()"
      ],
      "execution_count": null,
      "outputs": []
    },
    {
      "cell_type": "code",
      "metadata": {
        "id": "0xZUk-oghGn6"
      },
      "source": [
        "X = dataset.iloc[:, [1,3,5,6,7,8,13]].values\n",
        "X"
      ],
      "execution_count": null,
      "outputs": []
    },
    {
      "cell_type": "code",
      "metadata": {
        "id": "LNTUEIffhQtk"
      },
      "source": [
        "y = dataset['income'].values\n",
        "y"
      ],
      "execution_count": null,
      "outputs": []
    },
    {
      "cell_type": "code",
      "metadata": {
        "id": "r2EgxJPEhVj_"
      },
      "source": [
        "multinomial_naive_bayes = MultinomialNB()\n",
        "multinomial_naive_bayes.fit(X, y)"
      ],
      "execution_count": null,
      "outputs": []
    },
    {
      "cell_type": "code",
      "metadata": {
        "id": "uxEEo8R4hckf"
      },
      "source": [
        "previsoes = multinomial_naive_bayes.predict(X)"
      ],
      "execution_count": null,
      "outputs": []
    },
    {
      "cell_type": "code",
      "metadata": {
        "id": "lm-sH2XohgtO"
      },
      "source": [
        "previsoes, y"
      ],
      "execution_count": null,
      "outputs": []
    },
    {
      "cell_type": "code",
      "metadata": {
        "id": "iJ_ssxPZhl8W"
      },
      "source": [
        "accuracy_score(y, previsoes)"
      ],
      "execution_count": null,
      "outputs": []
    },
    {
      "cell_type": "markdown",
      "metadata": {
        "id": "clcXtG1liStO"
      },
      "source": [
        "## Padronização (z-score) e k-NN"
      ]
    },
    {
      "cell_type": "code",
      "metadata": {
        "id": "C-nWg6-giVNr"
      },
      "source": [
        "import pandas as pd\n",
        "import numpy as np\n",
        "dataset = pd.read_csv('credit_data.csv')\n",
        "dataset.dropna(inplace=True)\n",
        "dataset.head()"
      ],
      "execution_count": null,
      "outputs": []
    },
    {
      "cell_type": "markdown",
      "metadata": {
        "id": "k8OkXZ1DiZaD"
      },
      "source": [
        "### Sem padronização"
      ]
    },
    {
      "cell_type": "code",
      "metadata": {
        "id": "qR6sCd-yjgOx"
      },
      "source": [
        "X = dataset.iloc[:, 1:4].values\n",
        "X"
      ],
      "execution_count": null,
      "outputs": []
    },
    {
      "cell_type": "code",
      "metadata": {
        "id": "DRa5e1s1jm5l"
      },
      "source": [
        "y = dataset['c#default'].values\n",
        "y"
      ],
      "execution_count": null,
      "outputs": []
    },
    {
      "cell_type": "code",
      "metadata": {
        "id": "eipQEp2pjsJ8"
      },
      "source": [
        "from sklearn.neighbors import KNeighborsClassifier\n",
        "from sklearn.model_selection import train_test_split\n",
        "from sklearn.metrics import accuracy_score"
      ],
      "execution_count": null,
      "outputs": []
    },
    {
      "cell_type": "code",
      "metadata": {
        "id": "cdxE8E6aj4MC"
      },
      "source": [
        "X_treinamento, X_teste, y_treinamento, y_teste = train_test_split(X, y, test_size = 0.2,\n",
        "                                                                  stratify = y)"
      ],
      "execution_count": null,
      "outputs": []
    },
    {
      "cell_type": "code",
      "metadata": {
        "id": "zYPmqpVgkEeQ"
      },
      "source": [
        "np.mean(X_treinamento[0]), np.median(X_treinamento[0]), np.std(X_treinamento[0])"
      ],
      "execution_count": null,
      "outputs": []
    },
    {
      "cell_type": "code",
      "metadata": {
        "id": "vzJ7rI6RkvTr"
      },
      "source": [
        "np.mean(X_teste[0]), np.median(X_teste[0]), np.std(X_teste[0])"
      ],
      "execution_count": null,
      "outputs": []
    },
    {
      "cell_type": "code",
      "metadata": {
        "id": "vUgklIzdk48F"
      },
      "source": [
        "knn = KNeighborsClassifier()\n",
        "knn.fit(X_treinamento, y_treinamento)"
      ],
      "execution_count": null,
      "outputs": []
    },
    {
      "cell_type": "code",
      "metadata": {
        "id": "bOpdfVhPlDi7"
      },
      "source": [
        "previsoes = knn.predict(X_teste)"
      ],
      "execution_count": null,
      "outputs": []
    },
    {
      "cell_type": "code",
      "metadata": {
        "id": "F9mxkdChlPDt"
      },
      "source": [
        "accuracy_score(y_teste, previsoes)"
      ],
      "execution_count": null,
      "outputs": []
    },
    {
      "cell_type": "markdown",
      "metadata": {
        "id": "_KsA-s8_ibKS"
      },
      "source": [
        "### Com padronização"
      ]
    },
    {
      "cell_type": "code",
      "metadata": {
        "id": "YszwHL1-lg5o"
      },
      "source": [
        "from sklearn.preprocessing import StandardScaler"
      ],
      "execution_count": null,
      "outputs": []
    },
    {
      "cell_type": "code",
      "metadata": {
        "id": "OaFzToTmloNT"
      },
      "source": [
        "z_score_treinamento = StandardScaler()\n",
        "z_score_teste = StandardScaler()"
      ],
      "execution_count": null,
      "outputs": []
    },
    {
      "cell_type": "code",
      "metadata": {
        "id": "iFWbQSewlwDF"
      },
      "source": [
        "X_treinamento_p = z_score_treinamento.fit_transform(X_treinamento)\n",
        "X_teste_p = z_score_teste.fit_transform(X_teste)"
      ],
      "execution_count": null,
      "outputs": []
    },
    {
      "cell_type": "code",
      "metadata": {
        "id": "vJ3Nt9g2mKve"
      },
      "source": [
        "X_treinamento_p, X_teste_p"
      ],
      "execution_count": null,
      "outputs": []
    },
    {
      "cell_type": "code",
      "metadata": {
        "id": "UK9ErpIimR3k"
      },
      "source": [
        "min(X_treinamento_p[0]), max(X_treinamento_p[0])"
      ],
      "execution_count": null,
      "outputs": []
    },
    {
      "cell_type": "code",
      "metadata": {
        "id": "EAAIhKp2mYz6"
      },
      "source": [
        "np.mean(X_treinamento_p), np.median(X_treinamento_p), np.std(X_treinamento_p)"
      ],
      "execution_count": null,
      "outputs": []
    },
    {
      "cell_type": "code",
      "metadata": {
        "id": "1EdxZ273nAzJ"
      },
      "source": [
        "np.mean(X_teste_p), np.median(X_teste_p), np.std(X_teste_p)"
      ],
      "execution_count": null,
      "outputs": []
    },
    {
      "cell_type": "code",
      "metadata": {
        "id": "5np7lxponXLB"
      },
      "source": [
        "knn = KNeighborsClassifier()\n",
        "knn.fit(X_treinamento_p, y_treinamento)\n",
        "previsoes = knn.predict(X_teste_p)\n",
        "accuracy_score(y_teste, previsoes)"
      ],
      "execution_count": null,
      "outputs": []
    },
    {
      "cell_type": "markdown",
      "metadata": {
        "id": "_ABiFDCGqOoL"
      },
      "source": [
        "## Dados enviesados e machine learning\n",
        "\n",
        "- https://towardsdatascience.com/transforming-skewed-data-73da4c2d0d16"
      ]
    },
    {
      "cell_type": "code",
      "metadata": {
        "id": "aTVAkrS2qN55"
      },
      "source": [
        "import pandas as pd\n",
        "dataset = pd.read_csv('house_prices.csv')"
      ],
      "execution_count": null,
      "outputs": []
    },
    {
      "cell_type": "code",
      "metadata": {
        "id": "HJsXLyeCq2CK"
      },
      "source": [
        "dataset.head()"
      ],
      "execution_count": null,
      "outputs": []
    },
    {
      "cell_type": "code",
      "metadata": {
        "id": "-VsIa1KArElA"
      },
      "source": [
        "sns.distplot(dataset['price']);"
      ],
      "execution_count": null,
      "outputs": []
    },
    {
      "cell_type": "code",
      "metadata": {
        "id": "07wVCnNQrKrC"
      },
      "source": [
        "sns.distplot(dataset['sqft_living']);"
      ],
      "execution_count": null,
      "outputs": []
    },
    {
      "cell_type": "markdown",
      "metadata": {
        "id": "z6yRPe_VrhdW"
      },
      "source": [
        "### Sem tratamento de dados"
      ]
    },
    {
      "cell_type": "code",
      "metadata": {
        "id": "IHZis3rYrmi2"
      },
      "source": [
        "from sklearn.linear_model import LinearRegression"
      ],
      "execution_count": null,
      "outputs": []
    },
    {
      "cell_type": "code",
      "metadata": {
        "id": "MQ82CD_Srq9f"
      },
      "source": [
        "X = dataset['sqft_living'].values\n",
        "X"
      ],
      "execution_count": null,
      "outputs": []
    },
    {
      "cell_type": "code",
      "metadata": {
        "id": "PflK4octrvzH"
      },
      "source": [
        "X.shape"
      ],
      "execution_count": null,
      "outputs": []
    },
    {
      "cell_type": "code",
      "metadata": {
        "id": "wurIog2Jrzap"
      },
      "source": [
        "X = X.reshape(-1, 1)\n",
        "X.shape"
      ],
      "execution_count": null,
      "outputs": []
    },
    {
      "cell_type": "code",
      "metadata": {
        "id": "okg8lzVYr43f"
      },
      "source": [
        "y = dataset['price'].values\n",
        "y"
      ],
      "execution_count": null,
      "outputs": []
    },
    {
      "cell_type": "code",
      "metadata": {
        "id": "RBwjqSJjr91j"
      },
      "source": [
        "regressor = LinearRegression()\n",
        "regressor.fit(X, y)"
      ],
      "execution_count": null,
      "outputs": []
    },
    {
      "cell_type": "code",
      "metadata": {
        "id": "MWW0ZBQDsFdL"
      },
      "source": [
        "previsoes = regressor.predict(X)\n",
        "previsoes"
      ],
      "execution_count": null,
      "outputs": []
    },
    {
      "cell_type": "code",
      "metadata": {
        "id": "v3RaoS2FsLeB"
      },
      "source": [
        "y"
      ],
      "execution_count": null,
      "outputs": []
    },
    {
      "cell_type": "code",
      "metadata": {
        "id": "-xJZE22csbls"
      },
      "source": [
        "from sklearn.metrics import mean_absolute_error, r2_score\n",
        "mean_absolute_error(y, previsoes)"
      ],
      "execution_count": null,
      "outputs": []
    },
    {
      "cell_type": "code",
      "metadata": {
        "id": "gs3_N3VDsvKd"
      },
      "source": [
        "r2_score(y, previsoes)"
      ],
      "execution_count": null,
      "outputs": []
    },
    {
      "cell_type": "markdown",
      "metadata": {
        "id": "yyzDcjqQrj4J"
      },
      "source": [
        "### Com tratamento de dados"
      ]
    },
    {
      "cell_type": "code",
      "metadata": {
        "id": "yXK_6WYptAPU"
      },
      "source": [
        "X_novo = np.log(X)\n",
        "X_novo"
      ],
      "execution_count": null,
      "outputs": []
    },
    {
      "cell_type": "code",
      "metadata": {
        "id": "NptCqQtQtU11"
      },
      "source": [
        "sns.distplot(X_novo);"
      ],
      "execution_count": null,
      "outputs": []
    },
    {
      "cell_type": "code",
      "metadata": {
        "id": "OamlW_Aht5Q0"
      },
      "source": [
        "y_novo = np.log(y)\n",
        "y_novo"
      ],
      "execution_count": null,
      "outputs": []
    },
    {
      "cell_type": "code",
      "metadata": {
        "id": "5agI6Gmat9z2"
      },
      "source": [
        "sns.distplot(y_novo);"
      ],
      "execution_count": null,
      "outputs": []
    },
    {
      "cell_type": "code",
      "metadata": {
        "id": "r-tOmrw1tlpx"
      },
      "source": [
        "regressor = LinearRegression()\n",
        "regressor.fit(X_novo, y_novo)\n",
        "previsoes = regressor.predict(X_novo)\n",
        "mean_absolute_error(y_novo, previsoes)"
      ],
      "execution_count": null,
      "outputs": []
    },
    {
      "cell_type": "code",
      "metadata": {
        "id": "-zXwWiCHtyzD"
      },
      "source": [
        "r2_score(y_novo, previsoes)"
      ],
      "execution_count": null,
      "outputs": []
    },
    {
      "cell_type": "markdown",
      "metadata": {
        "id": "Xc0ke7RCuobr"
      },
      "source": [
        "## Inicialização de pesos em redes neurais"
      ]
    },
    {
      "cell_type": "code",
      "metadata": {
        "id": "xbKe5brwvKps"
      },
      "source": [
        "import tensorflow as tf\n",
        "tf.__version__"
      ],
      "execution_count": null,
      "outputs": []
    },
    {
      "cell_type": "markdown",
      "metadata": {
        "id": "8CTAx7_ruq8w"
      },
      "source": [
        "### Inicializadores\n",
        "\n",
        "- https://keras.io/api/layers/initializers/"
      ]
    },
    {
      "cell_type": "code",
      "metadata": {
        "id": "zwvhl1oXvXwx"
      },
      "source": [
        "from tensorflow.keras import initializers"
      ],
      "execution_count": null,
      "outputs": []
    },
    {
      "cell_type": "markdown",
      "metadata": {
        "id": "iRPCZhN7utzR"
      },
      "source": [
        "#### Random normal"
      ]
    },
    {
      "cell_type": "code",
      "metadata": {
        "id": "Ph8xBGUqvcjG"
      },
      "source": [
        "normal = initializers.RandomNormal()\n",
        "dados_normal = normal(shape=[1000])"
      ],
      "execution_count": null,
      "outputs": []
    },
    {
      "cell_type": "code",
      "metadata": {
        "id": "pgiPvhJgvwqy"
      },
      "source": [
        "np.mean(dados_normal), np.std(dados_normal)"
      ],
      "execution_count": null,
      "outputs": []
    },
    {
      "cell_type": "code",
      "metadata": {
        "id": "oKnPyWkhv5mS"
      },
      "source": [
        "sns.distplot(dados_normal);"
      ],
      "execution_count": null,
      "outputs": []
    },
    {
      "cell_type": "markdown",
      "metadata": {
        "id": "sgLIdztZuwiS"
      },
      "source": [
        "#### Random uniform"
      ]
    },
    {
      "cell_type": "code",
      "metadata": {
        "id": "V7QMU5WnwBgh"
      },
      "source": [
        "uniforme = initializers.RandomUniform()\n",
        "dados_uniforme = uniforme(shape=[1000])"
      ],
      "execution_count": null,
      "outputs": []
    },
    {
      "cell_type": "code",
      "metadata": {
        "id": "gghfV8fawNxI"
      },
      "source": [
        "sns.distplot(dados_uniforme);"
      ],
      "execution_count": null,
      "outputs": []
    },
    {
      "cell_type": "markdown",
      "metadata": {
        "id": "D94paoR0uzNB"
      },
      "source": [
        "#### Glorot normal (Xavier initialization)\n",
        "\n",
        "- Centered on 0 with stddev = sqrt(2 / (fan_in + fan_out)) where fan_in is the number of input units in the weight tensor and fan_out is the number of output units in the weight tensor\n",
        "- https://keras.io/api/layers/initializers/"
      ]
    },
    {
      "cell_type": "code",
      "metadata": {
        "id": "Rad1CYaEw5nD"
      },
      "source": [
        "import math\n",
        "math.sqrt(2 / (10 + 100))"
      ],
      "execution_count": null,
      "outputs": []
    },
    {
      "cell_type": "code",
      "metadata": {
        "id": "HkZsJEu8xCcY"
      },
      "source": [
        "math.sqrt(2 / (100 + 100))"
      ],
      "execution_count": null,
      "outputs": []
    },
    {
      "cell_type": "code",
      "metadata": {
        "id": "myLziZV3xGCy"
      },
      "source": [
        "math.sqrt(2 / (100 + 1))"
      ],
      "execution_count": null,
      "outputs": []
    },
    {
      "cell_type": "code",
      "metadata": {
        "id": "LVFuGsKywxm3"
      },
      "source": [
        "# 10 -> 100 -> 100 -> 1"
      ],
      "execution_count": null,
      "outputs": []
    },
    {
      "cell_type": "code",
      "metadata": {
        "id": "YG0mo8POxOt5"
      },
      "source": [
        "normal_glorot = initializers.GlorotNormal()\n",
        "dados_normal_glorot = normal_glorot(shape=[1000])"
      ],
      "execution_count": null,
      "outputs": []
    },
    {
      "cell_type": "code",
      "metadata": {
        "id": "LR_rgkgSxhGj"
      },
      "source": [
        "sns.distplot(dados_normal_glorot);"
      ],
      "execution_count": null,
      "outputs": []
    },
    {
      "cell_type": "markdown",
      "metadata": {
        "id": "fkFs2F6Qu2ZU"
      },
      "source": [
        "#### Glorot uniform"
      ]
    },
    {
      "cell_type": "code",
      "metadata": {
        "id": "dcwQVXDAxmE1"
      },
      "source": [
        "uniforme_glorot = initializers.GlorotUniform()\n",
        "dados_uniforme_glorot = uniforme_glorot(shape=[1000])"
      ],
      "execution_count": null,
      "outputs": []
    },
    {
      "cell_type": "code",
      "metadata": {
        "id": "KJ-VxkcxxwUa"
      },
      "source": [
        "sns.distplot(dados_uniforme_glorot);"
      ],
      "execution_count": null,
      "outputs": []
    },
    {
      "cell_type": "markdown",
      "metadata": {
        "id": "L5yaRuq4yCmN"
      },
      "source": [
        "## Testes de normalidade\n",
        "\n",
        "- Estatística paramétrica: os dados estão em alguma distribuição, geralmente a distribuição normal\n",
        "- Estatística não paramétrica: os dados estão em outra distribuição (ou desconhecida)\n",
        "- Se os dados são \"normais\", usamos estatística paramétrica. Caso contrário, usamos estatística não paramétrica"
      ]
    },
    {
      "cell_type": "code",
      "metadata": {
        "id": "qRb9Q5OXyFKy"
      },
      "source": [
        "from scipy.stats import skewnorm\n",
        "dados_normais = stats.norm.rvs(size = 1000)\n",
        "dados_nao_normais = skewnorm.rvs(a = -10, size = 1000)"
      ],
      "execution_count": null,
      "outputs": []
    },
    {
      "cell_type": "markdown",
      "metadata": {
        "id": "Ltp-GmXQyHl1"
      },
      "source": [
        "### Histograma"
      ]
    },
    {
      "cell_type": "code",
      "metadata": {
        "id": "IkVqaLthzGz7"
      },
      "source": [
        "sns.distplot(dados_normais);"
      ],
      "execution_count": null,
      "outputs": []
    },
    {
      "cell_type": "code",
      "metadata": {
        "id": "st6cWwUCzLW-"
      },
      "source": [
        "sns.distplot(dados_nao_normais);"
      ],
      "execution_count": null,
      "outputs": []
    },
    {
      "cell_type": "markdown",
      "metadata": {
        "id": "llkUXN14yJdG"
      },
      "source": [
        "### Quantile-quantile plot"
      ]
    },
    {
      "cell_type": "code",
      "metadata": {
        "id": "L2HcYx8izYxg"
      },
      "source": [
        "from statsmodels.graphics.gofplots import qqplot"
      ],
      "execution_count": null,
      "outputs": []
    },
    {
      "cell_type": "code",
      "metadata": {
        "id": "o6hLa7cpzk6K"
      },
      "source": [
        "qqplot(dados_normais, line = 's');"
      ],
      "execution_count": null,
      "outputs": []
    },
    {
      "cell_type": "code",
      "metadata": {
        "id": "SFnF5r03zqWG"
      },
      "source": [
        "qqplot(dados_nao_normais, line = 's');"
      ],
      "execution_count": null,
      "outputs": []
    },
    {
      "cell_type": "markdown",
      "metadata": {
        "id": "XUtJyKcGyNjo"
      },
      "source": [
        "### Teste de Shapiro-Wilk\n",
        "\n",
        "- p-value é usado para interpretar o teste estatístico\n",
        "- p <= alpha: rejeita a hipótese, não é normal\n",
        "- p > alpha: não rejeita a hipótese, é normal"
      ]
    },
    {
      "cell_type": "code",
      "metadata": {
        "id": "LSbeRYpP0DP6"
      },
      "source": [
        "from scipy.stats import shapiro"
      ],
      "execution_count": null,
      "outputs": []
    },
    {
      "cell_type": "code",
      "metadata": {
        "id": "QIkg3d3X0HWP"
      },
      "source": [
        "_, p = shapiro(dados_normais)\n",
        "p"
      ],
      "execution_count": null,
      "outputs": []
    },
    {
      "cell_type": "code",
      "metadata": {
        "id": "qoCLmCr00O0c"
      },
      "source": [
        "alpha = 0.05\n",
        "if p > alpha:\n",
        "  print('Distribuição normal')\n",
        "else:\n",
        "  print('Distribuição não normal')"
      ],
      "execution_count": null,
      "outputs": []
    },
    {
      "cell_type": "code",
      "metadata": {
        "id": "FhND0jZQ0fJV"
      },
      "source": [
        "_, p = shapiro(dados_nao_normais)\n",
        "p"
      ],
      "execution_count": null,
      "outputs": []
    },
    {
      "cell_type": "code",
      "metadata": {
        "id": "HByXwDId0mEV"
      },
      "source": [
        "alpha = 0.05\n",
        "if p > alpha:\n",
        "  print('Distribuição normal')\n",
        "else:\n",
        "  print('Distribuição não normal')"
      ],
      "execution_count": null,
      "outputs": []
    }
  ]
}