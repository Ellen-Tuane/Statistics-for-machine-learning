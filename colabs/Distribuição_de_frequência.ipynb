{
  "nbformat": 4,
  "nbformat_minor": 0,
  "metadata": {
    "colab": {
      "name": "Distribuição de frequência.ipynb",
      "provenance": [],
      "include_colab_link": true
    },
    "kernelspec": {
      "name": "python3",
      "display_name": "Python 3"
    }
  },
  "cells": [
    {
      "cell_type": "markdown",
      "metadata": {
        "id": "view-in-github",
        "colab_type": "text"
      },
      "source": [
        "<a href=\"https://colab.research.google.com/github/Ellen-Tuane/Statistics-for-machine-learning/blob/master/colabs/Distribui%C3%A7%C3%A3o_de_frequ%C3%AAncia.ipynb\" target=\"_parent\"><img src=\"https://colab.research.google.com/assets/colab-badge.svg\" alt=\"Open In Colab\"/></a>"
      ]
    },
    {
      "cell_type": "markdown",
      "metadata": {
        "id": "AxGScXlpOd6x"
      },
      "source": [
        "# Distribuição de frequência"
      ]
    },
    {
      "cell_type": "markdown",
      "metadata": {
        "id": "VhdSvqcE8vNK"
      },
      "source": [
        "## Importação das bibliotecas e dados originais"
      ]
    },
    {
      "cell_type": "code",
      "metadata": {
        "id": "TJigF1mqyBDN"
      },
      "source": [
        "import numpy as np\n",
        "import matplotlib.pyplot as plt\n",
        "import pandas as pd\n",
        "import seaborn as sns"
      ],
      "execution_count": null,
      "outputs": []
    },
    {
      "cell_type": "code",
      "metadata": {
        "id": "R-6MeWTqyS7W"
      },
      "source": [
        "dados = np.array([160, 165, 167, 164, 160, 166, 160, 161, 150, 152, 173, 160, 155,\n",
        "                  164, 168, 162, 161, 168, 163, 156, 155, 169, 151, 170, 164,\n",
        "                  155, 152, 163, 160, 155, 157, 156, 158, 158, 161, 154, 161, 156, 172, 153])"
      ],
      "execution_count": null,
      "outputs": []
    },
    {
      "cell_type": "markdown",
      "metadata": {
        "id": "C5B5jbd9O7UR"
      },
      "source": [
        "## Ordenação"
      ]
    },
    {
      "cell_type": "code",
      "metadata": {
        "id": "VVdp28LfyewS"
      },
      "source": [
        "dados = np.sort(dados)"
      ],
      "execution_count": null,
      "outputs": []
    },
    {
      "cell_type": "code",
      "metadata": {
        "id": "ZKA8JTFPynby"
      },
      "source": [
        "dados"
      ],
      "execution_count": null,
      "outputs": []
    },
    {
      "cell_type": "code",
      "metadata": {
        "id": "0IXxiAYMysqO"
      },
      "source": [
        "minimo = dados.min()\n",
        "minimo"
      ],
      "execution_count": null,
      "outputs": []
    },
    {
      "cell_type": "code",
      "metadata": {
        "id": "9bv3fp0UyxEI"
      },
      "source": [
        "maximo = dados.max()\n",
        "maximo"
      ],
      "execution_count": null,
      "outputs": []
    },
    {
      "cell_type": "code",
      "metadata": {
        "id": "lCFNpLOLy0j9"
      },
      "source": [
        "np.unique(dados, return_counts=True)"
      ],
      "execution_count": null,
      "outputs": []
    },
    {
      "cell_type": "code",
      "metadata": {
        "id": "9N320CQhzF8e"
      },
      "source": [
        "plt.bar(dados, dados)"
      ],
      "execution_count": null,
      "outputs": []
    },
    {
      "cell_type": "markdown",
      "metadata": {
        "id": "rvAzaKbFQyXV"
      },
      "source": [
        "## Número de classes\n",
        "\n",
        "- i = 1 + 3.3 log n"
      ]
    },
    {
      "cell_type": "code",
      "metadata": {
        "id": "5SweRT-FzpQD"
      },
      "source": [
        "n = len(dados)\n",
        "n"
      ],
      "execution_count": null,
      "outputs": []
    },
    {
      "cell_type": "code",
      "metadata": {
        "id": "3sOtyOK8zvre"
      },
      "source": [
        "i = 1 + 3.3 * np.log10(n)\n",
        "i"
      ],
      "execution_count": null,
      "outputs": []
    },
    {
      "cell_type": "code",
      "metadata": {
        "id": "4TSnaiKnz5Ux"
      },
      "source": [
        "i = round(i)\n",
        "i"
      ],
      "execution_count": null,
      "outputs": []
    },
    {
      "cell_type": "markdown",
      "metadata": {
        "id": "a8oK6q7-RWru"
      },
      "source": [
        "## Amplitude do intervalo\n",
        "\n",
        "- h = AA / i\n",
        "- AA = Xmax - Xmin"
      ]
    },
    {
      "cell_type": "code",
      "metadata": {
        "id": "9QHPeIZu0B9m"
      },
      "source": [
        "AA = maximo - minimo\n",
        "AA"
      ],
      "execution_count": null,
      "outputs": []
    },
    {
      "cell_type": "code",
      "metadata": {
        "id": "OfaaKxsy0HpQ"
      },
      "source": [
        "h = AA / i\n",
        "h"
      ],
      "execution_count": null,
      "outputs": []
    },
    {
      "cell_type": "code",
      "metadata": {
        "id": "5lb_HUqs0L-5"
      },
      "source": [
        "import math\n",
        "h = math.ceil(h)\n",
        "h"
      ],
      "execution_count": null,
      "outputs": []
    },
    {
      "cell_type": "markdown",
      "metadata": {
        "id": "gQYgJxLTU762"
      },
      "source": [
        "## Construção da distribuição de frequência"
      ]
    },
    {
      "cell_type": "code",
      "metadata": {
        "id": "bjZN7uwm0Wkg"
      },
      "source": [
        "intervalos = np.arange(minimo, maximo + 2, step = h)\n",
        "intervalos"
      ],
      "execution_count": null,
      "outputs": []
    },
    {
      "cell_type": "code",
      "metadata": {
        "id": "uT70Ko-a2V1H"
      },
      "source": [
        "intervalo1, intervalo2, intervalo3, intervalo4, intervalo5, intervalo6 = 0,0,0,0,0,0\n",
        "for i in range(n):\n",
        "  if dados[i] >= intervalos[0] and dados[i] < intervalos[1]:\n",
        "    intervalo1 += 1\n",
        "  elif dados[i] >= intervalos[1] and dados[i] < intervalos[2]:\n",
        "    intervalo2 += 1\n",
        "  elif dados[i] >= intervalos[2] and dados[i] < intervalos[3]:\n",
        "    intervalo3 += 1\n",
        "  elif dados[i] >= intervalos[3] and dados[i] < intervalos[4]:\n",
        "    intervalo4 += 1\n",
        "  elif dados[i] >= intervalos[4] and dados[i] < intervalos[5]:\n",
        "    intervalo5 += 1\n",
        "  elif dados[i] >= intervalos[5] and dados[i] < intervalos[6]:\n",
        "    intervalo6 += 1"
      ],
      "execution_count": null,
      "outputs": []
    },
    {
      "cell_type": "code",
      "metadata": {
        "id": "R4iFhY7Z3uPe"
      },
      "source": [
        "lista_intervalos = []\n",
        "lista_intervalos.append(intervalo1)\n",
        "lista_intervalos.append(intervalo2)\n",
        "lista_intervalos.append(intervalo3)\n",
        "lista_intervalos.append(intervalo4)\n",
        "lista_intervalos.append(intervalo5)\n",
        "lista_intervalos.append(intervalo6)\n",
        "lista_intervalos"
      ],
      "execution_count": null,
      "outputs": []
    },
    {
      "cell_type": "code",
      "metadata": {
        "id": "s3SlTbHw4aS3"
      },
      "source": [
        "lista_classes = []\n",
        "for i in range(len(lista_intervalos)):\n",
        "  lista_classes.append(str(intervalos[i]) + '-' + str(intervalos[i + 1]))"
      ],
      "execution_count": null,
      "outputs": []
    },
    {
      "cell_type": "code",
      "metadata": {
        "id": "9blEQMOo4z8z"
      },
      "source": [
        "lista_classes"
      ],
      "execution_count": null,
      "outputs": []
    },
    {
      "cell_type": "code",
      "metadata": {
        "id": "FUFXCOFI4_eq"
      },
      "source": [
        "plt.bar(lista_classes, lista_intervalos)\n",
        "plt.title('Distribuição de frequência - histograma')\n",
        "plt.xlabel('intervalos')\n",
        "plt.ylabel('valores');"
      ],
      "execution_count": null,
      "outputs": []
    },
    {
      "cell_type": "markdown",
      "metadata": {
        "id": "vWrQIlPNdGN0"
      },
      "source": [
        "## Distribuição de frequência e histograma com numpy e matplotlib\n",
        "\n",
        "- https://numpy.org/doc/stable/reference/generated/numpy.histogram.html\n",
        "- https://numpy.org/doc/stable/reference/generated/numpy.histogram_bin_edges.html#numpy.histogram_bin_edges"
      ]
    },
    {
      "cell_type": "code",
      "metadata": {
        "id": "OfSOj3O_5o1b"
      },
      "source": [
        "dados = np.array([160, 165, 167, 164, 160, 166, 160, 161, 150, 152, 173, 160, 155,\n",
        "                  164, 168, 162, 161, 168, 163, 156, 155, 169, 151, 170, 164,\n",
        "                  155, 152, 163, 160, 155, 157, 156, 158, 158, 161, 154, 161, 156, 172, 153])"
      ],
      "execution_count": null,
      "outputs": []
    },
    {
      "cell_type": "code",
      "metadata": {
        "id": "-UeJ-dmx6FeF"
      },
      "source": [
        "frequencia, classes = np.histogram(dados)"
      ],
      "execution_count": null,
      "outputs": []
    },
    {
      "cell_type": "code",
      "metadata": {
        "id": "lhNtgOlw6R8j"
      },
      "source": [
        "frequencia, classes, len(classes)"
      ],
      "execution_count": null,
      "outputs": []
    },
    {
      "cell_type": "code",
      "metadata": {
        "id": "4wwCwUFP63nt"
      },
      "source": [
        "plt.hist(dados, bins = classes);"
      ],
      "execution_count": null,
      "outputs": []
    },
    {
      "cell_type": "code",
      "metadata": {
        "id": "-pM2hrxu7Khk"
      },
      "source": [
        "frequencia, classes = np.histogram(dados, bins=5)\n",
        "frequencia, classes"
      ],
      "execution_count": null,
      "outputs": []
    },
    {
      "cell_type": "code",
      "metadata": {
        "id": "cXEw8W6G7aUX"
      },
      "source": [
        "plt.hist(dados, classes);"
      ],
      "execution_count": null,
      "outputs": []
    },
    {
      "cell_type": "code",
      "metadata": {
        "id": "EEbrWx0R7h3n"
      },
      "source": [
        "frequencia, classes = np.histogram(dados, bins = 'sturges')\n",
        "frequencia, classes"
      ],
      "execution_count": null,
      "outputs": []
    },
    {
      "cell_type": "code",
      "metadata": {
        "id": "m6Q0B6sv8ZoU"
      },
      "source": [
        "plt.hist(dados, classes);"
      ],
      "execution_count": null,
      "outputs": []
    },
    {
      "cell_type": "markdown",
      "metadata": {
        "id": "Dg4L8OxjdIEv"
      },
      "source": [
        "## Distribuição de frequência e histograma com pandas e seaborn"
      ]
    },
    {
      "cell_type": "code",
      "metadata": {
        "id": "fGA_ttEn9Hzy"
      },
      "source": [
        "type(dados)"
      ],
      "execution_count": null,
      "outputs": []
    },
    {
      "cell_type": "code",
      "metadata": {
        "id": "JWdvR7gC9FTC"
      },
      "source": [
        "dataset = pd.DataFrame({'dados': dados})"
      ],
      "execution_count": null,
      "outputs": []
    },
    {
      "cell_type": "code",
      "metadata": {
        "id": "h6jbwLJv9O-T"
      },
      "source": [
        "dataset.head()"
      ],
      "execution_count": null,
      "outputs": []
    },
    {
      "cell_type": "code",
      "metadata": {
        "id": "6szSIhcA9T90"
      },
      "source": [
        "dataset.plot.hist();"
      ],
      "execution_count": null,
      "outputs": []
    },
    {
      "cell_type": "code",
      "metadata": {
        "id": "t-Y6hhw29d7t"
      },
      "source": [
        "sns.distplot(dados, hist = True, kde = True);"
      ],
      "execution_count": null,
      "outputs": []
    },
    {
      "cell_type": "markdown",
      "metadata": {
        "id": "Mfe1fB9i8wEW"
      },
      "source": [
        "## Exercício - idade census.csv"
      ]
    },
    {
      "cell_type": "code",
      "metadata": {
        "id": "4U9cqZ6280RT"
      },
      "source": [
        "import pandas as pd\n",
        "dataset = pd.read_csv('census.csv')"
      ],
      "execution_count": null,
      "outputs": []
    },
    {
      "cell_type": "code",
      "metadata": {
        "id": "cYkZQ5yJ9PKI"
      },
      "source": [
        "dataset.head()"
      ],
      "execution_count": null,
      "outputs": []
    },
    {
      "cell_type": "code",
      "metadata": {
        "id": "GzzRFcem9SBZ"
      },
      "source": [
        "dataset['age'].max(), dataset['age'].min()"
      ],
      "execution_count": null,
      "outputs": []
    },
    {
      "cell_type": "code",
      "metadata": {
        "id": "k7Ehdyru9Yg6"
      },
      "source": [
        "dataset['age'].plot.hist();"
      ],
      "execution_count": null,
      "outputs": []
    },
    {
      "cell_type": "code",
      "metadata": {
        "id": "6Jqcr0VL91uD"
      },
      "source": [
        "dataset['age'] = pd.cut(dataset['age'], bins=[0, 17, 25, 40, 60, 90], \n",
        "                        labels=['Faixa1', \"Faixa2\", \"Faixa3\", \"Faixa4\", \"Faixa5\"])"
      ],
      "execution_count": null,
      "outputs": []
    },
    {
      "cell_type": "code",
      "metadata": {
        "id": "zlWvB_IH-WB7"
      },
      "source": [
        "dataset.head()"
      ],
      "execution_count": null,
      "outputs": []
    },
    {
      "cell_type": "code",
      "metadata": {
        "id": "PuJGKi8H-tUn"
      },
      "source": [
        "dataset['age'].unique()"
      ],
      "execution_count": null,
      "outputs": []
    },
    {
      "cell_type": "markdown",
      "metadata": {
        "id": "8VlagMi-_QqB"
      },
      "source": [
        "## Regras de associação"
      ]
    },
    {
      "cell_type": "code",
      "metadata": {
        "id": "mpTnziwjA2_x"
      },
      "source": [
        "dataset.head()"
      ],
      "execution_count": null,
      "outputs": []
    },
    {
      "cell_type": "code",
      "metadata": {
        "id": "me7g8m-eBMa1"
      },
      "source": [
        "dataset_apriori = dataset[['age', 'workclass', 'education', 'marital-status', 'relationship', 'occupation',\n",
        "                            'sex', 'native-country', 'income']]"
      ],
      "execution_count": null,
      "outputs": []
    },
    {
      "cell_type": "code",
      "metadata": {
        "id": "Mzqwg4IEBpO-"
      },
      "source": [
        "dataset_apriori.head()"
      ],
      "execution_count": null,
      "outputs": []
    },
    {
      "cell_type": "code",
      "metadata": {
        "id": "fHTCBZ3eBtWl"
      },
      "source": [
        "dataset.shape"
      ],
      "execution_count": null,
      "outputs": []
    },
    {
      "cell_type": "code",
      "metadata": {
        "id": "_SHkyv6ZBwrF"
      },
      "source": [
        "dataset_apriori = dataset_apriori.sample(n = 1000)\n",
        "dataset_apriori.shape"
      ],
      "execution_count": null,
      "outputs": []
    },
    {
      "cell_type": "code",
      "metadata": {
        "id": "-W2-eg1-CFvA"
      },
      "source": [
        "transacoes = []\n",
        "for i in range(dataset_apriori.shape[0]):\n",
        "  transacoes.append([str(dataset_apriori.values[i, j]) for j in range(dataset_apriori.shape[1])])"
      ],
      "execution_count": null,
      "outputs": []
    },
    {
      "cell_type": "code",
      "metadata": {
        "id": "lHOiE4bTCho1"
      },
      "source": [
        "len(transacoes)"
      ],
      "execution_count": null,
      "outputs": []
    },
    {
      "cell_type": "code",
      "metadata": {
        "id": "hmgOJBLhCjol"
      },
      "source": [
        "transacoes[:2]"
      ],
      "execution_count": null,
      "outputs": []
    },
    {
      "cell_type": "code",
      "metadata": {
        "id": "ueEcXdncCpyI"
      },
      "source": [
        "!pip install apyori"
      ],
      "execution_count": null,
      "outputs": []
    },
    {
      "cell_type": "code",
      "metadata": {
        "id": "epVx6fb5CuvB"
      },
      "source": [
        "from apyori import apriori"
      ],
      "execution_count": null,
      "outputs": []
    },
    {
      "cell_type": "code",
      "metadata": {
        "id": "217EpL6mCzyu"
      },
      "source": [
        "regras = apriori(transacoes, min_support = 0.3, min_confidence = 0.2)\n",
        "resultados = list(regras)"
      ],
      "execution_count": null,
      "outputs": []
    },
    {
      "cell_type": "code",
      "metadata": {
        "id": "lJfgeQTeDCiL"
      },
      "source": [
        "len(resultados)"
      ],
      "execution_count": null,
      "outputs": []
    },
    {
      "cell_type": "code",
      "metadata": {
        "id": "vY5bouIXDEwV"
      },
      "source": [
        "resultados"
      ],
      "execution_count": null,
      "outputs": []
    },
    {
      "cell_type": "code",
      "metadata": {
        "id": "tTS_tzdUDl52"
      },
      "source": [
        "resultados[12]"
      ],
      "execution_count": null,
      "outputs": []
    }
  ]
}