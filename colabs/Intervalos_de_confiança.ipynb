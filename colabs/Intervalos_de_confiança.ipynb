{
  "nbformat": 4,
  "nbformat_minor": 0,
  "metadata": {
    "colab": {
      "name": "Intervalos de confiança.ipynb",
      "provenance": [],
      "collapsed_sections": [
        "ZlEvsKLveFQL",
        "dQaoUfm56ojf",
        "Db7IuI7u8Byn",
        "r6wahT6G6v-r",
        "6YmpLIrHHy8V",
        "gvFuVo9xOHMP",
        "9WQJw94FPwGc",
        "nK3RpwuA43CE",
        "WugyJqsLB3W2",
        "Rm3_RajaB6uJ"
      ],
      "include_colab_link": true
    },
    "kernelspec": {
      "name": "python3",
      "display_name": "Python 3"
    }
  },
  "cells": [
    {
      "cell_type": "markdown",
      "metadata": {
        "id": "view-in-github",
        "colab_type": "text"
      },
      "source": [
        "<a href=\"https://colab.research.google.com/github/Ellen-Tuane/Statistics-for-machine-learning/blob/master/colabs/Intervalos_de_confian%C3%A7a.ipynb\" target=\"_parent\"><img src=\"https://colab.research.google.com/assets/colab-badge.svg\" alt=\"Open In Colab\"/></a>"
      ]
    },
    {
      "cell_type": "markdown",
      "metadata": {
        "id": "pZi_0UhNd61m"
      },
      "source": [
        "# Intervalos de confiança"
      ]
    },
    {
      "cell_type": "markdown",
      "metadata": {
        "id": "U4KIp7nkd9U3"
      },
      "source": [
        "## Importações"
      ]
    },
    {
      "cell_type": "code",
      "metadata": {
        "id": "NUNR2x3Ad_ZS"
      },
      "source": [
        "import numpy as np\n",
        "from scipy.stats import norm\n",
        "from scipy import stats\n",
        "import seaborn as sns\n",
        "import math"
      ],
      "execution_count": null,
      "outputs": []
    },
    {
      "cell_type": "markdown",
      "metadata": {
        "id": "ZlEvsKLveFQL"
      },
      "source": [
        "## Base de dados"
      ]
    },
    {
      "cell_type": "code",
      "metadata": {
        "id": "zHi-CG3Dd4O5"
      },
      "source": [
        "dados = np.array([126. , 129.5, 133. , 133. , 136.5, 136.5, 140. , 140. , 140. ,\n",
        "                  140. , 143.5, 143.5, 143.5, 143.5, 143.5, 143.5, 147. , 147. ,\n",
        "                  147. , 147. , 147. , 147. , 147. , 150.5, 150.5, 150.5, 150.5,\n",
        "                  150.5, 150.5, 150.5, 150.5, 154. , 154. , 154. , 154. , 154. ,\n",
        "                  154. , 154. , 154. , 154. , 157.5, 157.5, 157.5, 157.5, 157.5,\n",
        "                  157.5, 157.5, 157.5, 157.5, 157.5, 161. , 161. , 161. , 161. ,\n",
        "                  161. , 161. , 161. , 161. , 161. , 161. , 164.5, 164.5, 164.5,\n",
        "                  164.5, 164.5, 164.5, 164.5, 164.5, 164.5, 168. , 168. , 168. ,\n",
        "                  168. , 168. , 168. , 168. , 168. , 171.5, 171.5, 171.5, 171.5,\n",
        "                  171.5, 171.5, 171.5, 175. , 175. , 175. , 175. , 175. , 175. ,\n",
        "                  178.5, 178.5, 178.5, 178.5, 182. , 182. , 185.5, 185.5, 189., 192.5])"
      ],
      "execution_count": null,
      "outputs": []
    },
    {
      "cell_type": "code",
      "metadata": {
        "id": "5NX3jR22Onzh"
      },
      "source": [
        "n = len(dados)\n",
        "n"
      ],
      "execution_count": null,
      "outputs": []
    },
    {
      "cell_type": "code",
      "metadata": {
        "id": "OMmLGfO7Os4d"
      },
      "source": [
        "media = np.mean(dados)\n",
        "media"
      ],
      "execution_count": null,
      "outputs": []
    },
    {
      "cell_type": "code",
      "metadata": {
        "id": "m5odGhKwOxfd"
      },
      "source": [
        "desvio_padrao = np.std(dados)\n",
        "desvio_padrao"
      ],
      "execution_count": null,
      "outputs": []
    },
    {
      "cell_type": "markdown",
      "metadata": {
        "id": "dQaoUfm56ojf"
      },
      "source": [
        "## Cálculo do intervalo de confiança - manual"
      ]
    },
    {
      "cell_type": "code",
      "metadata": {
        "id": "tKTzQHdtO-wM"
      },
      "source": [
        "alpha = 0.05 / 2\n",
        "alpha"
      ],
      "execution_count": null,
      "outputs": []
    },
    {
      "cell_type": "code",
      "metadata": {
        "id": "x1ywnvspPG9C"
      },
      "source": [
        "1 - alpha"
      ],
      "execution_count": null,
      "outputs": []
    },
    {
      "cell_type": "code",
      "metadata": {
        "id": "PO2PANBiPUDF"
      },
      "source": [
        "z = norm.ppf(1 - alpha)\n",
        "z"
      ],
      "execution_count": null,
      "outputs": []
    },
    {
      "cell_type": "code",
      "metadata": {
        "id": "MO56VVrKPgho"
      },
      "source": [
        "x_inferior = media - z * (desvio_padrao / math.sqrt(n))\n",
        "x_inferior"
      ],
      "execution_count": null,
      "outputs": []
    },
    {
      "cell_type": "code",
      "metadata": {
        "id": "8u8-0FOzPq1V"
      },
      "source": [
        "x_superior = media + z * (desvio_padrao / math.sqrt(n))\n",
        "x_superior"
      ],
      "execution_count": null,
      "outputs": []
    },
    {
      "cell_type": "code",
      "metadata": {
        "id": "lQCfxx3WP0Cw"
      },
      "source": [
        "margem_erro = abs(media - x_superior)\n",
        "margem_erro"
      ],
      "execution_count": null,
      "outputs": []
    },
    {
      "cell_type": "code",
      "metadata": {
        "id": "Nxbhd6KuQBVa"
      },
      "source": [
        "sns.distplot(dados);"
      ],
      "execution_count": null,
      "outputs": []
    },
    {
      "cell_type": "markdown",
      "metadata": {
        "id": "Db7IuI7u8Byn"
      },
      "source": [
        "## Cálculo do intervalo de confiança - scipy\n",
        "\n",
        "- https://docs.scipy.org/doc/scipy/reference/generated/scipy.stats.norm.html"
      ]
    },
    {
      "cell_type": "code",
      "metadata": {
        "id": "Rc53p5PjRAan"
      },
      "source": [
        "stats.sem(dados)"
      ],
      "execution_count": null,
      "outputs": []
    },
    {
      "cell_type": "code",
      "metadata": {
        "id": "iHb79IASRHxW"
      },
      "source": [
        "desvio_padrao / math.sqrt(n - 1)"
      ],
      "execution_count": null,
      "outputs": []
    },
    {
      "cell_type": "code",
      "metadata": {
        "id": "q-xXNe9CQpZR"
      },
      "source": [
        "intervalos = norm.interval(0.95, media, stats.sem(dados))\n",
        "intervalos"
      ],
      "execution_count": null,
      "outputs": []
    },
    {
      "cell_type": "code",
      "metadata": {
        "id": "DgF_vzRcReKc"
      },
      "source": [
        "margem_erro = media - intervalos[0]\n",
        "margem_erro"
      ],
      "execution_count": null,
      "outputs": []
    },
    {
      "cell_type": "markdown",
      "metadata": {
        "id": "r6wahT6G6v-r"
      },
      "source": [
        "## Diferentes níveis de confiança"
      ]
    },
    {
      "cell_type": "code",
      "metadata": {
        "id": "0asK0VZJRwcg"
      },
      "source": [
        "intervalos = norm.interval(0.99, media, stats.sem(dados))\n",
        "intervalos"
      ],
      "execution_count": null,
      "outputs": []
    },
    {
      "cell_type": "code",
      "metadata": {
        "id": "nEDuzyH6SS9H"
      },
      "source": [
        "margem_erro = media - intervalos[0]\n",
        "margem_erro"
      ],
      "execution_count": null,
      "outputs": []
    },
    {
      "cell_type": "code",
      "metadata": {
        "id": "Wc4IKdLDSiHI"
      },
      "source": [
        "intervalos = norm.interval(0.8, media, stats.sem(dados))\n",
        "intervalos"
      ],
      "execution_count": null,
      "outputs": []
    },
    {
      "cell_type": "code",
      "metadata": {
        "id": "ryv0zgFgSqii"
      },
      "source": [
        "margem_erro = media - intervalos[0]\n",
        "margem_erro"
      ],
      "execution_count": null,
      "outputs": []
    },
    {
      "cell_type": "markdown",
      "metadata": {
        "id": "6YmpLIrHHy8V"
      },
      "source": [
        "## Exercício"
      ]
    },
    {
      "cell_type": "code",
      "metadata": {
        "id": "f7jh8rcvH0kA"
      },
      "source": [
        "dados_salario = np.array([82.1191, 72.8014, 79.1266, 71.3552, 59.192 , 79.1952, 56.518 ,\n",
        "                          70.3752, 73.5364, 61.0407, 64.3902, 66.4076, 63.5215, 71.9936,\n",
        "                          60.1489, 78.5932, 76.0459, 67.7726, 64.6149, 80.1948, 76.7998,\n",
        "                          76.1831, 80.7065, 62.4953, 57.204 , 62.5408, 80.0982, 63.287 ,\n",
        "                          66.5826, 79.3674])"
      ],
      "execution_count": null,
      "outputs": []
    },
    {
      "cell_type": "code",
      "metadata": {
        "id": "q-LOKkYMKe74"
      },
      "source": [
        "media = dados_salario.mean()\n",
        "media"
      ],
      "execution_count": null,
      "outputs": []
    },
    {
      "cell_type": "code",
      "metadata": {
        "id": "-ctb0MHCLABU"
      },
      "source": [
        "desvio_padrao = np.std(dados_salario)\n",
        "desvio_padrao"
      ],
      "execution_count": null,
      "outputs": []
    },
    {
      "cell_type": "code",
      "metadata": {
        "id": "_M6MHOtrKlmo"
      },
      "source": [
        "intervalos = norm.interval(0.95, media, stats.sem(dados_salario))\n",
        "intervalos"
      ],
      "execution_count": null,
      "outputs": []
    },
    {
      "cell_type": "code",
      "metadata": {
        "id": "j829egsqNVjU"
      },
      "source": [
        "# Temos 95% de confiança de que a média salarial das pessoas está\n",
        "# no intervalo entre 67.26 e 73.01"
      ],
      "execution_count": null,
      "outputs": []
    },
    {
      "cell_type": "markdown",
      "metadata": {
        "id": "gvFuVo9xOHMP"
      },
      "source": [
        "## Distribuição T Student"
      ]
    },
    {
      "cell_type": "code",
      "metadata": {
        "id": "bFW2EhS6OKHG"
      },
      "source": [
        "dados = np.array([149. , 160., 147., 189., 175., 168., 156., 160., 152.])"
      ],
      "execution_count": null,
      "outputs": []
    },
    {
      "cell_type": "code",
      "metadata": {
        "id": "9GtpsmPsZT47"
      },
      "source": [
        "n = len(dados)\n",
        "n"
      ],
      "execution_count": null,
      "outputs": []
    },
    {
      "cell_type": "code",
      "metadata": {
        "id": "XnSEWkxXZXp3"
      },
      "source": [
        "media = dados.mean()\n",
        "media"
      ],
      "execution_count": null,
      "outputs": []
    },
    {
      "cell_type": "code",
      "metadata": {
        "id": "_91jTbcxZas6"
      },
      "source": [
        "desvio_padrao = np.std(dados)\n",
        "desvio_padrao"
      ],
      "execution_count": null,
      "outputs": []
    },
    {
      "cell_type": "code",
      "metadata": {
        "id": "ypsI-qN1Zgmy"
      },
      "source": [
        "from scipy.stats import t"
      ],
      "execution_count": null,
      "outputs": []
    },
    {
      "cell_type": "code",
      "metadata": {
        "id": "uacCFeaBZlxc"
      },
      "source": [
        "intervalos = t.interval(0.95, n - 1, media, stats.sem(dados, ddof = 0))\n",
        "intervalos"
      ],
      "execution_count": null,
      "outputs": []
    },
    {
      "cell_type": "code",
      "metadata": {
        "id": "_1-uPWTKaNSI"
      },
      "source": [
        "margem_erro = media - intervalos[0]\n",
        "margem_erro"
      ],
      "execution_count": null,
      "outputs": []
    },
    {
      "cell_type": "markdown",
      "metadata": {
        "id": "VZ7kygXGN9Of"
      },
      "source": [
        "## Intervalos de confiança e classificação"
      ]
    },
    {
      "cell_type": "markdown",
      "metadata": {
        "id": "phKQZwmuPtM7"
      },
      "source": [
        "### Accuracy"
      ]
    },
    {
      "cell_type": "code",
      "metadata": {
        "id": "G0ennM3VOAQm"
      },
      "source": [
        "import pandas as pd\n",
        "from sklearn.model_selection import train_test_split\n",
        "from sklearn.naive_bayes import GaussianNB\n",
        "from sklearn.linear_model import LogisticRegression\n",
        "from sklearn.ensemble import RandomForestClassifier\n",
        "from sklearn.metrics import accuracy_score\n",
        "from sklearn.model_selection import cross_val_score, KFold\n",
        "dataset = pd.read_csv('credit_data.csv')\n",
        "dataset.dropna(inplace=True)\n",
        "dataset.head()"
      ],
      "execution_count": null,
      "outputs": []
    },
    {
      "cell_type": "code",
      "metadata": {
        "id": "x1xzShStOGPa"
      },
      "source": [
        "X = dataset.iloc[:, 1:4].values\n",
        "X"
      ],
      "execution_count": null,
      "outputs": []
    },
    {
      "cell_type": "code",
      "metadata": {
        "id": "po_UTlOiOJhr"
      },
      "source": [
        "y = dataset.iloc[:, 4].values\n",
        "y"
      ],
      "execution_count": null,
      "outputs": []
    },
    {
      "cell_type": "code",
      "metadata": {
        "id": "a2kPUjk6Odug"
      },
      "source": [
        "resultados_naive_bayes_cv = []\n",
        "resultados_naive_bayes_cv_300 = []\n",
        "resultados_logistica_cv = []\n",
        "resultados_logistica_cv_300 = []\n",
        "resultados_forest_cv = []\n",
        "resultados_forest_cv_300 = []\n",
        "for i in range(30):\n",
        "  kfold = KFold(n_splits = 10, shuffle = True, random_state = i)\n",
        "  \n",
        "  naive_bayes = GaussianNB()\n",
        "  scores = cross_val_score(naive_bayes, X, y, cv = kfold)\n",
        "  resultados_naive_bayes_cv_300.append(scores)\n",
        "  resultados_naive_bayes_cv.append(scores.mean())\n",
        "\n",
        "  logistica = LogisticRegression()\n",
        "  scores = cross_val_score(logistica, X, y, cv = kfold)\n",
        "  resultados_logistica_cv_300.append(scores)\n",
        "  resultados_logistica_cv.append(scores.mean())\n",
        "  \n",
        "  random_forest = RandomForestClassifier()\n",
        "  scores = cross_val_score(random_forest, X, y, cv = kfold)\n",
        "  resultados_forest_cv_300.append(scores)\n",
        "  resultados_forest_cv.append(scores.mean())"
      ],
      "execution_count": null,
      "outputs": []
    },
    {
      "cell_type": "code",
      "metadata": {
        "id": "assQ4dI7p93O"
      },
      "source": [
        "len(resultados_naive_bayes_cv), len(resultados_naive_bayes_cv_300)"
      ],
      "execution_count": null,
      "outputs": []
    },
    {
      "cell_type": "code",
      "metadata": {
        "id": "7HAmPxbd0W4x"
      },
      "source": [
        "print(resultados_naive_bayes_cv)"
      ],
      "execution_count": null,
      "outputs": []
    },
    {
      "cell_type": "code",
      "metadata": {
        "id": "qu-fwwn70afy"
      },
      "source": [
        "print(resultados_naive_bayes_cv_300)"
      ],
      "execution_count": null,
      "outputs": []
    },
    {
      "cell_type": "code",
      "metadata": {
        "id": "ABUm7aBVCC9f"
      },
      "source": [
        "np.asarray(resultados_naive_bayes_cv_300).shape"
      ],
      "execution_count": null,
      "outputs": []
    },
    {
      "cell_type": "code",
      "metadata": {
        "id": "0QZZScMSPUju"
      },
      "source": [
        "resultados_naive_bayes_cv = np.array(resultados_naive_bayes_cv)\n",
        "resultados_naive_bayes_cv_300 = np.array(np.asarray(resultados_naive_bayes_cv_300).reshape(-1))\n",
        "resultados_logistica_cv = np.array(resultados_logistica_cv)\n",
        "resultados_logistica_cv_300 = np.array(np.asarray(resultados_logistica_cv_300).reshape(-1))\n",
        "resultados_forest_cv = np.array(resultados_forest_cv)\n",
        "resultados_forest_cv_300 = np.array(np.asarray(resultados_forest_cv_300).reshape(-1))"
      ],
      "execution_count": null,
      "outputs": []
    },
    {
      "cell_type": "code",
      "metadata": {
        "id": "a2xc5GRFBNMa"
      },
      "source": [
        "resultados_naive_bayes_cv_300.shape"
      ],
      "execution_count": null,
      "outputs": []
    },
    {
      "cell_type": "code",
      "metadata": {
        "id": "ClWKL27p0jZq"
      },
      "source": [
        "sns.distplot(resultados_naive_bayes_cv);"
      ],
      "execution_count": null,
      "outputs": []
    },
    {
      "cell_type": "code",
      "metadata": {
        "id": "gEkqhfSG0py0"
      },
      "source": [
        "sns.distplot(resultados_naive_bayes_cv_300);"
      ],
      "execution_count": null,
      "outputs": []
    },
    {
      "cell_type": "code",
      "metadata": {
        "id": "4MyGjYdx_uWq"
      },
      "source": [
        "sns.distplot(resultados_logistica_cv);"
      ],
      "execution_count": null,
      "outputs": []
    },
    {
      "cell_type": "code",
      "metadata": {
        "id": "rGbdtDVY_-T6"
      },
      "source": [
        "sns.distplot(resultados_logistica_cv_300);"
      ],
      "execution_count": null,
      "outputs": []
    },
    {
      "cell_type": "code",
      "metadata": {
        "id": "Ucs7OTRT_zM6"
      },
      "source": [
        "sns.distplot(resultados_forest_cv);"
      ],
      "execution_count": null,
      "outputs": []
    },
    {
      "cell_type": "code",
      "metadata": {
        "id": "G9g6udpUAEOE"
      },
      "source": [
        "sns.distplot(resultados_forest_cv_300, bins=5);"
      ],
      "execution_count": null,
      "outputs": []
    },
    {
      "cell_type": "code",
      "metadata": {
        "id": "v91hESORPLd1"
      },
      "source": [
        "resultados_naive_bayes_cv.mean(), resultados_logistica_cv.mean(), resultados_forest_cv.mean()"
      ],
      "execution_count": null,
      "outputs": []
    },
    {
      "cell_type": "code",
      "metadata": {
        "id": "Q95XACHcOnoo"
      },
      "source": [
        "stats.variation(resultados_naive_bayes_cv) * 100, stats.variation(resultados_logistica_cv) * 100, stats.variation(resultados_forest_cv) * 100"
      ],
      "execution_count": null,
      "outputs": []
    },
    {
      "cell_type": "markdown",
      "metadata": {
        "id": "9WQJw94FPwGc"
      },
      "source": [
        "### Intervalos de confiança"
      ]
    },
    {
      "cell_type": "code",
      "metadata": {
        "id": "lDji3oddTVZk"
      },
      "source": [
        "from scipy.stats import t\n",
        "from scipy.stats import norm"
      ],
      "execution_count": null,
      "outputs": []
    },
    {
      "cell_type": "markdown",
      "metadata": {
        "id": "nK3RpwuA43CE"
      },
      "source": [
        "#### Naïve bayes"
      ]
    },
    {
      "cell_type": "code",
      "metadata": {
        "id": "A36vePfuOwOC"
      },
      "source": [
        "intervalos_naive_bayes_t = t.interval(0.95, len(resultados_naive_bayes_cv) - 1, \n",
        "                                    resultados_naive_bayes_cv.mean(), \n",
        "                                    stats.sem(resultados_naive_bayes_cv, ddof = 0))\n",
        "intervalos_naive_bayes_t"
      ],
      "execution_count": null,
      "outputs": []
    },
    {
      "cell_type": "code",
      "metadata": {
        "id": "3wkgw-AVTdhY"
      },
      "source": [
        "abs(resultados_naive_bayes_cv.mean() - intervalos_naive_bayes_t[1])"
      ],
      "execution_count": null,
      "outputs": []
    },
    {
      "cell_type": "code",
      "metadata": {
        "id": "BLFpp_hTAiCh"
      },
      "source": [
        "intervalos_naive_bayes_n = norm.interval(0.95, resultados_naive_bayes_cv_300.mean(), \n",
        "                                         stats.sem(resultados_naive_bayes_cv_300))\n",
        "intervalos_naive_bayes_n"
      ],
      "execution_count": null,
      "outputs": []
    },
    {
      "cell_type": "code",
      "metadata": {
        "id": "_TuRZZD7Cwpb"
      },
      "source": [
        "abs(resultados_naive_bayes_cv_300.mean() - intervalos_naive_bayes_n[1])"
      ],
      "execution_count": null,
      "outputs": []
    },
    {
      "cell_type": "markdown",
      "metadata": {
        "id": "WugyJqsLB3W2"
      },
      "source": [
        "#### Regressão logística"
      ]
    },
    {
      "cell_type": "code",
      "metadata": {
        "id": "BjvcP_BwTrSH"
      },
      "source": [
        "intervalos_logistica_t = t.interval(0.95, len(resultados_logistica_cv) - 1, \n",
        "                                    resultados_logistica_cv.mean(), \n",
        "                                    stats.sem(resultados_logistica_cv, ddof = 0))\n",
        "intervalos_logistica_t"
      ],
      "execution_count": null,
      "outputs": []
    },
    {
      "cell_type": "code",
      "metadata": {
        "id": "jeGpa03gT6yg"
      },
      "source": [
        "abs(resultados_logistica_cv.mean() - intervalos_logistica_t[1])"
      ],
      "execution_count": null,
      "outputs": []
    },
    {
      "cell_type": "code",
      "metadata": {
        "id": "Rjyu4ix4C-mN"
      },
      "source": [
        "intervalos_logistica_n = norm.interval(0.95, resultados_logistica_cv_300.mean(), \n",
        "                                       stats.sem(resultados_logistica_cv_300))\n",
        "intervalos_logistica_n"
      ],
      "execution_count": null,
      "outputs": []
    },
    {
      "cell_type": "code",
      "metadata": {
        "id": "N2fs23PXDIDI"
      },
      "source": [
        "abs(resultados_logistica_cv_300.mean() - intervalos_logistica_n[1])"
      ],
      "execution_count": null,
      "outputs": []
    },
    {
      "cell_type": "markdown",
      "metadata": {
        "id": "Rm3_RajaB6uJ"
      },
      "source": [
        "#### Random Forest"
      ]
    },
    {
      "cell_type": "code",
      "metadata": {
        "id": "pmncOAVkUGfS"
      },
      "source": [
        "intervalos_forest_t = t.interval(0.95, len(resultados_forest_cv) - 1, \n",
        "                                 resultados_forest_cv.mean(), \n",
        "                                 stats.sem(resultados_forest_cv, ddof = 0))\n",
        "intervalos_forest_t"
      ],
      "execution_count": null,
      "outputs": []
    },
    {
      "cell_type": "code",
      "metadata": {
        "id": "gOzfzQ5JUN_2"
      },
      "source": [
        "abs(resultados_forest_cv.mean() - intervalos_forest_t[1])"
      ],
      "execution_count": null,
      "outputs": []
    },
    {
      "cell_type": "code",
      "metadata": {
        "id": "cTgyv1tzDWQG"
      },
      "source": [
        "intervalos_forest_n = norm.interval(0.95, resultados_forest_cv_300.mean(), \n",
        "                                    stats.sem(resultados_forest_cv_300))\n",
        "intervalos_forest_n"
      ],
      "execution_count": null,
      "outputs": []
    },
    {
      "cell_type": "code",
      "metadata": {
        "id": "cMzxyNhEDkg-"
      },
      "source": [
        "abs(resultados_forest_cv_300.mean() - intervalos_forest_n[1])"
      ],
      "execution_count": null,
      "outputs": []
    },
    {
      "cell_type": "code",
      "metadata": {
        "id": "n1WC3H2vU2td"
      },
      "source": [
        "# Temos 95% de confiança de que a média de acertos do Random Forest está\n",
        "# no intervalo entre 98,63% e 98,74% - 98,59% e 98,77%"
      ],
      "execution_count": null,
      "outputs": []
    },
    {
      "cell_type": "code",
      "metadata": {
        "id": "E_I5nR99h7n3"
      },
      "source": [
        "kfold = KFold(n_splits = 10, shuffle = True)\n",
        "random_forest = RandomForestClassifier()\n",
        "scores = cross_val_score(random_forest, X, y, cv = kfold)\n",
        "print(scores.mean())"
      ],
      "execution_count": null,
      "outputs": []
    }
  ]
}