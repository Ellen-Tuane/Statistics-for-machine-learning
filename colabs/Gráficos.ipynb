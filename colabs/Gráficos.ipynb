{
  "nbformat": 4,
  "nbformat_minor": 0,
  "metadata": {
    "colab": {
      "name": "Gráficos.ipynb",
      "provenance": [],
      "collapsed_sections": [
        "DYrZXDWMr2BA",
        "rVEsp_QStyPY",
        "EMUMTzAX48T3"
      ],
      "include_colab_link": true
    },
    "kernelspec": {
      "name": "python3",
      "display_name": "Python 3"
    }
  },
  "cells": [
    {
      "cell_type": "markdown",
      "metadata": {
        "id": "view-in-github",
        "colab_type": "text"
      },
      "source": [
        "<a href=\"https://colab.research.google.com/github/Ellen-Tuane/Statistics-for-machine-learning/blob/master/colabs/Gr%C3%A1ficos.ipynb\" target=\"_parent\"><img src=\"https://colab.research.google.com/assets/colab-badge.svg\" alt=\"Open In Colab\"/></a>"
      ]
    },
    {
      "cell_type": "markdown",
      "metadata": {
        "id": "JhCwitDclTyq"
      },
      "source": [
        "# Gráficos"
      ]
    },
    {
      "cell_type": "code",
      "metadata": {
        "id": "JZlULuMdlsIU"
      },
      "source": [
        "import pandas as pd\n",
        "import numpy as np\n",
        "import seaborn as sns\n",
        "import matplotlib.pyplot as plt"
      ],
      "execution_count": null,
      "outputs": []
    },
    {
      "cell_type": "markdown",
      "metadata": {
        "id": "hpSvgOSolY9q"
      },
      "source": [
        "## Base de dados"
      ]
    },
    {
      "cell_type": "code",
      "metadata": {
        "id": "MR3ABFNzlYJi"
      },
      "source": [
        "dataset = pd.read_csv('census.csv')\n",
        "dataset.head()"
      ],
      "execution_count": null,
      "outputs": []
    },
    {
      "cell_type": "markdown",
      "metadata": {
        "id": "2rJ7bsVulWRd"
      },
      "source": [
        "## Gráfico de dispersão"
      ]
    },
    {
      "cell_type": "code",
      "metadata": {
        "id": "FXFiG1EqQirg"
      },
      "source": [
        "sns.relplot(x = 'age', y = 'final-weight', data=dataset,\n",
        "            hue = 'income', style = 'sex', size = 'education-num');"
      ],
      "execution_count": null,
      "outputs": []
    },
    {
      "cell_type": "markdown",
      "metadata": {
        "id": "4-R2KDB7n3CU"
      },
      "source": [
        "## Gráfico de barra e setor (pizza)"
      ]
    },
    {
      "cell_type": "code",
      "metadata": {
        "id": "jryhjxYRSF-5"
      },
      "source": [
        "sns.barplot(x = 'sex', y = 'final-weight', data=dataset, hue = 'income');"
      ],
      "execution_count": null,
      "outputs": []
    },
    {
      "cell_type": "code",
      "metadata": {
        "id": "Bk0yEv27Sj9a"
      },
      "source": [
        "dados_agrupados = dataset.groupby(['income'])['education-num'].sum()\n",
        "dados_agrupados"
      ],
      "execution_count": null,
      "outputs": []
    },
    {
      "cell_type": "code",
      "metadata": {
        "id": "K0BMDAmrS9Lt"
      },
      "source": [
        "dados_agrupados.plot.bar();"
      ],
      "execution_count": null,
      "outputs": []
    },
    {
      "cell_type": "code",
      "metadata": {
        "id": "nxOaxzjLTENI"
      },
      "source": [
        "dados_agrupados.plot.pie();"
      ],
      "execution_count": null,
      "outputs": []
    },
    {
      "cell_type": "markdown",
      "metadata": {
        "id": "xL3sLIhAqrur"
      },
      "source": [
        "## Gráfico de linha"
      ]
    },
    {
      "cell_type": "code",
      "metadata": {
        "id": "jqcyTwYhqtHt"
      },
      "source": [
        "vendas = {'mes': np.array([1, 2, 3, 4, 5, 6, 7, 8, 9, 10, 11, 12]),\n",
        "          'valor': np.array([100, 200, 120, 300, 500, 198, 200, 209, 130, 500, 300, 120])}"
      ],
      "execution_count": null,
      "outputs": []
    },
    {
      "cell_type": "code",
      "metadata": {
        "id": "pKUorS0PThQ8"
      },
      "source": [
        "vendas_df = pd.DataFrame(vendas)\n",
        "vendas_df"
      ],
      "execution_count": null,
      "outputs": []
    },
    {
      "cell_type": "code",
      "metadata": {
        "id": "dTDVcCTvTqhz"
      },
      "source": [
        "sns.relplot(x = 'mes', y = 'valor', kind = 'line', data=vendas_df);"
      ],
      "execution_count": null,
      "outputs": []
    },
    {
      "cell_type": "markdown",
      "metadata": {
        "id": "DYrZXDWMr2BA"
      },
      "source": [
        "## Boxplot"
      ]
    },
    {
      "cell_type": "code",
      "metadata": {
        "id": "X24-QSKGU9Ug"
      },
      "source": [
        "sns.boxplot(dataset['age']);"
      ],
      "execution_count": null,
      "outputs": []
    },
    {
      "cell_type": "code",
      "metadata": {
        "id": "vlG0wmsYVrDU"
      },
      "source": [
        "sns.boxplot(dataset['education-num']);"
      ],
      "execution_count": null,
      "outputs": []
    },
    {
      "cell_type": "code",
      "metadata": {
        "id": "2DjBk9d2V8zq"
      },
      "source": [
        "dataset2 = dataset.iloc[:, [0, 4, 12]]\n",
        "dataset2.head()"
      ],
      "execution_count": null,
      "outputs": []
    },
    {
      "cell_type": "code",
      "metadata": {
        "id": "9lyyJyj7WGCq"
      },
      "source": [
        "sns.boxplot(data=dataset2);"
      ],
      "execution_count": null,
      "outputs": []
    },
    {
      "cell_type": "markdown",
      "metadata": {
        "id": "rVEsp_QStyPY"
      },
      "source": [
        "## Gráficos com atributos categóricos"
      ]
    },
    {
      "cell_type": "code",
      "metadata": {
        "id": "5RshRBjvWbn9"
      },
      "source": [
        "sns.catplot(x = 'income', y = 'hour-per-week', data=dataset, hue = 'sex');"
      ],
      "execution_count": null,
      "outputs": []
    },
    {
      "cell_type": "code",
      "metadata": {
        "id": "v4TzJHA3XV11"
      },
      "source": [
        "sns.catplot(x = 'income', y = 'hour-per-week', \n",
        "            data=dataset.query('age < 20'), hue = 'sex');"
      ],
      "execution_count": null,
      "outputs": []
    },
    {
      "cell_type": "markdown",
      "metadata": {
        "id": "EMUMTzAX48T3"
      },
      "source": [
        "## Subgráficos"
      ]
    },
    {
      "cell_type": "code",
      "metadata": {
        "id": "UI-9rCojYSUk"
      },
      "source": [
        "g = sns.FacetGrid(dataset, col = 'sex', hue = 'income')\n",
        "g.map(sns.scatterplot, 'age', 'final-weight');"
      ],
      "execution_count": null,
      "outputs": []
    },
    {
      "cell_type": "code",
      "metadata": {
        "id": "IdF953kWY1uq"
      },
      "source": [
        "g = sns.FacetGrid(dataset, col = 'workclass', hue = 'income')\n",
        "g.map(sns.scatterplot, 'age', 'final-weight');"
      ],
      "execution_count": null,
      "outputs": []
    },
    {
      "cell_type": "code",
      "metadata": {
        "id": "wlAVjKLDZOCa"
      },
      "source": [
        "g = sns.FacetGrid(dataset, col = 'sex', hue = 'income')\n",
        "g.map(sns.histplot, 'age');"
      ],
      "execution_count": null,
      "outputs": []
    },
    {
      "cell_type": "code",
      "metadata": {
        "id": "qVB-JJB6ZtY3"
      },
      "source": [
        "dataset2.head()"
      ],
      "execution_count": null,
      "outputs": []
    },
    {
      "cell_type": "code",
      "metadata": {
        "id": "QEc5uhrwZwi9"
      },
      "source": [
        "g = sns.PairGrid(dataset2)\n",
        "g.map(sns.scatterplot)"
      ],
      "execution_count": null,
      "outputs": []
    },
    {
      "cell_type": "code",
      "metadata": {
        "id": "4_fcKPdeaFAN"
      },
      "source": [
        "g = sns.PairGrid(dataset2)\n",
        "g.map_diag(sns.histplot)\n",
        "g.map_offdiag(sns.scatterplot);"
      ],
      "execution_count": null,
      "outputs": []
    },
    {
      "cell_type": "markdown",
      "metadata": {
        "id": "4PDEEvv98so-"
      },
      "source": [
        "## Mapa"
      ]
    },
    {
      "cell_type": "code",
      "metadata": {
        "id": "2ZTMN-dl1eiD"
      },
      "source": [
        "#!apt-get install libgeos-3.5.0\n",
        "#!apt-get install libgeos-dev\n",
        "#!pip install https://github.com/matplotlib/basemap/archive/master.zip"
      ],
      "execution_count": null,
      "outputs": []
    },
    {
      "cell_type": "code",
      "source": [
        "!python -m pip install basemap"
      ],
      "metadata": {
        "id": "rmwBHcBk9zqv"
      },
      "execution_count": null,
      "outputs": []
    },
    {
      "cell_type": "code",
      "metadata": {
        "id": "cMnE9loy2JtU"
      },
      "source": [
        "from mpl_toolkits.basemap import Basemap"
      ],
      "execution_count": null,
      "outputs": []
    },
    {
      "cell_type": "code",
      "metadata": {
        "id": "Py8YPG_c2Qur"
      },
      "source": [
        "dataset = pd.read_csv('house_prices.csv')\n",
        "dataset.head()"
      ],
      "execution_count": null,
      "outputs": []
    },
    {
      "cell_type": "code",
      "metadata": {
        "id": "ed3clrO-5RDx"
      },
      "source": [
        "dataset = dataset.sort_values(by = 'price', ascending = True)\n",
        "dataset.head()"
      ],
      "execution_count": null,
      "outputs": []
    },
    {
      "cell_type": "code",
      "metadata": {
        "id": "mWYm5HRg5h1O"
      },
      "source": [
        "dataset.tail()"
      ],
      "execution_count": null,
      "outputs": []
    },
    {
      "cell_type": "code",
      "metadata": {
        "id": "q6sjxNeD5mLB"
      },
      "source": [
        "dataset_caros = dataset[0:1000]\n",
        "dataset_caros"
      ],
      "execution_count": null,
      "outputs": []
    },
    {
      "cell_type": "code",
      "metadata": {
        "id": "_8DuadqS63lL"
      },
      "source": [
        "dataset_baratos = dataset[0:1000]\n",
        "dataset_baratos"
      ],
      "execution_count": null,
      "outputs": []
    },
    {
      "cell_type": "code",
      "metadata": {
        "id": "WOlZdajX2ly4"
      },
      "source": [
        "dataset['lat'].describe()"
      ],
      "execution_count": null,
      "outputs": []
    },
    {
      "cell_type": "code",
      "metadata": {
        "id": "NjlzHgjX2t5H"
      },
      "source": [
        "dataset['long'].describe()"
      ],
      "execution_count": null,
      "outputs": []
    },
    {
      "cell_type": "code",
      "metadata": {
        "id": "81rnH62D218Y"
      },
      "source": [
        "lat1, lat2 = dataset['lat'].min(), dataset['lat'].max()\n",
        "lon1, lon2 = dataset['long'].min(), dataset['long'].max()"
      ],
      "execution_count": null,
      "outputs": []
    },
    {
      "cell_type": "code",
      "metadata": {
        "id": "_iZW5Fsc3F2g"
      },
      "source": [
        "import matplotlib.pyplot as plt\n",
        "plt.figure(figsize=(10, 10))\n",
        "m = Basemap(projection='cyl', resolution='i',\n",
        "            llcrnrlat = lat1, urcrnrlat = lat2,\n",
        "            llcrnrlon = lon1, urcrnrlon = lon2)\n",
        "m.drawcoastlines()\n",
        "m.fillcontinents(color = 'palegoldenrod', lake_color='lightskyblue')\n",
        "m.drawmapboundary(fill_color='lightskyblue')\n",
        "m.scatter(dataset['long'], dataset['lat'], s = 5, c = 'green', alpha = 0.1, zorder = 2)\n",
        "m.scatter(dataset_caros['long'], dataset_caros['lat'], s = 10, c = 'red', alpha = 0.1, zorder = 3)\n",
        "m.scatter(dataset_baratos['long'], dataset_baratos['lat'], s = 10, c = 'blue', alpha = 0.1, zorder = 4)"
      ],
      "execution_count": null,
      "outputs": []
    }
  ]
}