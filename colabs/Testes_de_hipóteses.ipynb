{
  "nbformat": 4,
  "nbformat_minor": 0,
  "metadata": {
    "colab": {
      "name": "Testes de hipóteses.ipynb",
      "provenance": [],
      "include_colab_link": true
    },
    "kernelspec": {
      "name": "python3",
      "display_name": "Python 3"
    }
  },
  "cells": [
    {
      "cell_type": "markdown",
      "metadata": {
        "id": "view-in-github",
        "colab_type": "text"
      },
      "source": [
        "<a href=\"https://colab.research.google.com/github/Ellen-Tuane/Statistics-for-machine-learning/blob/master/colabs/Testes_de_hip%C3%B3teses.ipynb\" target=\"_parent\"><img src=\"https://colab.research.google.com/assets/colab-badge.svg\" alt=\"Open In Colab\"/></a>"
      ]
    },
    {
      "cell_type": "markdown",
      "metadata": {
        "id": "h5qRUt5ZgK51"
      },
      "source": [
        "# Testes de hipóteses"
      ]
    },
    {
      "cell_type": "markdown",
      "metadata": {
        "id": "aEfXkCY5gNEo"
      },
      "source": [
        "## Bibliotecas"
      ]
    },
    {
      "cell_type": "code",
      "metadata": {
        "id": "gDmhIdcdgkct"
      },
      "source": [
        "import numpy as np\n",
        "import math\n",
        "from scipy.stats import norm"
      ],
      "execution_count": null,
      "outputs": []
    },
    {
      "cell_type": "markdown",
      "metadata": {
        "id": "7J-4fmAMgOxN"
      },
      "source": [
        "## Base de dados"
      ]
    },
    {
      "cell_type": "code",
      "metadata": {
        "id": "-V59vl3xgKYZ"
      },
      "source": [
        "dados_originais = np.array([126. , 129.5, 133. , 133. , 136.5, 136.5, 140. , 140. , 140. ,\n",
        "                            140. , 143.5, 143.5, 143.5, 143.5, 143.5, 143.5, 147. , 147. ,\n",
        "                            147. , 147. , 147. , 147. , 147. , 150.5, 150.5, 150.5, 150.5,\n",
        "                            150.5, 150.5, 150.5, 150.5, 154. , 154. , 154. , 154. , 154. ,\n",
        "                            154. , 154. , 154. , 154. , 157.5, 157.5, 157.5, 157.5, 157.5,\n",
        "                            157.5, 157.5, 157.5, 157.5, 157.5, 161. , 161. , 161. , 161. ,\n",
        "                            161. , 161. , 161. , 161. , 161. , 161. , 164.5, 164.5, 164.5,\n",
        "                            164.5, 164.5, 164.5, 164.5, 164.5, 164.5, 168. , 168. , 168. ,\n",
        "                            168. , 168. , 168. , 168. , 168. , 171.5, 171.5, 171.5, 171.5,\n",
        "                            171.5, 171.5, 171.5, 175. , 175. , 175. , 175. , 175. , 175. ,\n",
        "                            178.5, 178.5, 178.5, 178.5, 182. , 182. , 185.5, 185.5, 189., 192.5])"
      ],
      "execution_count": null,
      "outputs": []
    },
    {
      "cell_type": "code",
      "metadata": {
        "id": "ruRtK-Gp6uma"
      },
      "source": [
        "H0_media = np.mean(dados_originais)\n",
        "H0_media"
      ],
      "execution_count": null,
      "outputs": []
    },
    {
      "cell_type": "code",
      "metadata": {
        "id": "upQL-91k64mk"
      },
      "source": [
        "H0_desvio_padrao = np.std(dados_originais)\n",
        "H0_desvio_padrao"
      ],
      "execution_count": null,
      "outputs": []
    },
    {
      "cell_type": "code",
      "metadata": {
        "id": "zXLAGCza7IyF"
      },
      "source": [
        "dados_novos = dados_originais * 1.03\n",
        "dados_novos"
      ],
      "execution_count": null,
      "outputs": []
    },
    {
      "cell_type": "code",
      "metadata": {
        "id": "qTrj4pV77ejV"
      },
      "source": [
        "H1_media = np.mean(dados_novos)\n",
        "H1_media"
      ],
      "execution_count": null,
      "outputs": []
    },
    {
      "cell_type": "code",
      "metadata": {
        "id": "-JRYkFbd7ly7"
      },
      "source": [
        "H1_desvio_padrao = np.std(dados_novos)\n",
        "H1_desvio_padrao"
      ],
      "execution_count": null,
      "outputs": []
    },
    {
      "cell_type": "code",
      "metadata": {
        "id": "h0Fkkf_M7utP"
      },
      "source": [
        "H1_n = len(dados_novos)\n",
        "H1_n"
      ],
      "execution_count": null,
      "outputs": []
    },
    {
      "cell_type": "code",
      "metadata": {
        "id": "APafnv4p7zGS"
      },
      "source": [
        "alpha = 0.05"
      ],
      "execution_count": null,
      "outputs": []
    },
    {
      "cell_type": "markdown",
      "metadata": {
        "id": "UwWCFWVPhDsW"
      },
      "source": [
        "## Teste de hipótese Z"
      ]
    },
    {
      "cell_type": "markdown",
      "metadata": {
        "id": "2lAfmexBlVYO"
      },
      "source": [
        "### Teste manual"
      ]
    },
    {
      "cell_type": "code",
      "metadata": {
        "id": "Iv04ntsG8ACH"
      },
      "source": [
        "Z = (H1_media - H0_media) / (H1_desvio_padrao / math.sqrt(H1_n))\n",
        "Z"
      ],
      "execution_count": null,
      "outputs": []
    },
    {
      "cell_type": "code",
      "metadata": {
        "id": "5M9Wlv-48N9z"
      },
      "source": [
        "norm.cdf(3.398058252427187), norm.ppf(0.9996606701617486)"
      ],
      "execution_count": null,
      "outputs": []
    },
    {
      "cell_type": "code",
      "metadata": {
        "id": "VSuwpvNg8cTe"
      },
      "source": [
        "Z = norm.cdf(Z)\n",
        "Z"
      ],
      "execution_count": null,
      "outputs": []
    },
    {
      "cell_type": "code",
      "metadata": {
        "id": "msFP3E9H8i3e"
      },
      "source": [
        "p = 1 - Z\n",
        "p"
      ],
      "execution_count": null,
      "outputs": []
    },
    {
      "cell_type": "code",
      "metadata": {
        "id": "xU9Pz1WZ8wS0"
      },
      "source": [
        "if p < alpha:\n",
        "  print('Hipótese nula rejeitada')\n",
        "else:\n",
        "  print('Hipótese alternativa rejeitada')"
      ],
      "execution_count": null,
      "outputs": []
    },
    {
      "cell_type": "markdown",
      "metadata": {
        "id": "idYPxxbylXIN"
      },
      "source": [
        "### Teste com o statsmodels\n",
        "\n",
        "- https://www.statsmodels.org/devel/generated/statsmodels.stats.weightstats.ztest.html"
      ]
    },
    {
      "cell_type": "code",
      "metadata": {
        "id": "6N7L5L1Y8-Mr"
      },
      "source": [
        "from statsmodels.stats.weightstats import ztest"
      ],
      "execution_count": null,
      "outputs": []
    },
    {
      "cell_type": "code",
      "metadata": {
        "id": "3EChzbmV9LSt"
      },
      "source": [
        "_, p = ztest(dados_originais, dados_novos,\n",
        "             value = H1_media - H0_media,\n",
        "             alternative='larger')"
      ],
      "execution_count": null,
      "outputs": []
    },
    {
      "cell_type": "code",
      "metadata": {
        "id": "onr7l1ar9ok1"
      },
      "source": [
        "p"
      ],
      "execution_count": null,
      "outputs": []
    },
    {
      "cell_type": "markdown",
      "metadata": {
        "id": "HIOVlwTfEBuS"
      },
      "source": [
        "## Teste de hipótese T"
      ]
    },
    {
      "cell_type": "code",
      "metadata": {
        "id": "kAMY4K8ZEEBI"
      },
      "source": [
        "dados_originais = np.array([149. , 160., 147., 189., 175., 168., 156., 160., 152.])"
      ],
      "execution_count": null,
      "outputs": []
    },
    {
      "cell_type": "code",
      "metadata": {
        "id": "YP127AI0EMhb"
      },
      "source": [
        "dados_originais.mean(), np.std(dados_originais)"
      ],
      "execution_count": null,
      "outputs": []
    },
    {
      "cell_type": "code",
      "metadata": {
        "id": "vV32oNM9EXOz"
      },
      "source": [
        "dados_novos = dados_originais * 1.02\n",
        "dados_novos"
      ],
      "execution_count": null,
      "outputs": []
    },
    {
      "cell_type": "code",
      "metadata": {
        "id": "exE0GEQvEgbb"
      },
      "source": [
        "dados_novos.mean(), np.std(dados_novos)"
      ],
      "execution_count": null,
      "outputs": []
    },
    {
      "cell_type": "code",
      "metadata": {
        "id": "XoeXKto2E414"
      },
      "source": [
        "from scipy.stats import ttest_rel"
      ],
      "execution_count": null,
      "outputs": []
    },
    {
      "cell_type": "code",
      "metadata": {
        "id": "GXTK8ZfnE76T"
      },
      "source": [
        "_, p = ttest_rel(dados_originais, dados_novos)\n",
        "p"
      ],
      "execution_count": null,
      "outputs": []
    },
    {
      "cell_type": "code",
      "metadata": {
        "id": "1jLWGcIPFGt2"
      },
      "source": [
        "alpha = 0.01\n",
        "if p <= alpha:\n",
        "  print('Hipótese nula rejeitada')\n",
        "else:\n",
        "  print('Hipótese alternativa rejeitada')"
      ],
      "execution_count": null,
      "outputs": []
    },
    {
      "cell_type": "markdown",
      "metadata": {
        "id": "eljAcODhBZSb"
      },
      "source": [
        "## Teste qui quadrado\n",
        "\n",
        "-https://docs.scipy.org/doc/scipy/reference/generated/scipy.stats.chi2_contingency.html"
      ]
    },
    {
      "cell_type": "code",
      "metadata": {
        "id": "dLi7JfMIBaQA"
      },
      "source": [
        "from scipy.stats import chi2_contingency"
      ],
      "execution_count": null,
      "outputs": []
    },
    {
      "cell_type": "code",
      "metadata": {
        "id": "Hk7lnGCwBwvF"
      },
      "source": [
        "#tabela = np.array([[30, 20], [22, 28]])\n",
        "tabela = np.array([[45, 5], [5, 45]])"
      ],
      "execution_count": null,
      "outputs": []
    },
    {
      "cell_type": "code",
      "metadata": {
        "id": "j9dSdX1ZCAh9"
      },
      "source": [
        "tabela.shape"
      ],
      "execution_count": null,
      "outputs": []
    },
    {
      "cell_type": "code",
      "metadata": {
        "id": "8nj9bJ1XCDrR"
      },
      "source": [
        "_, p, _, _ = chi2_contingency(tabela)\n",
        "p"
      ],
      "execution_count": null,
      "outputs": []
    },
    {
      "cell_type": "code",
      "metadata": {
        "id": "KWQFR6zaChAq"
      },
      "source": [
        "alpha = 0.05\n",
        "if p <= alpha:\n",
        "  print('Hipótese nula rejeitada')\n",
        "else:\n",
        "  print('Hipótese alternativa rejeitada')"
      ],
      "execution_count": null,
      "outputs": []
    },
    {
      "cell_type": "markdown",
      "metadata": {
        "id": "AzsT7X60Dhz2"
      },
      "source": [
        "## Seleção de atributos com testes de hipóteses - univariate SelectFdr\n",
        "\n",
        "Testes estatísticos univariados são aqueles que envolvem uma variável dependente, por exemplo, teste t ou teste z para comparação de médias\n",
        "\n",
        "Documentação: https://scikit-learn.org/stable/modules/generated/sklearn.feature_selection.SelectFpr.html#sklearn.feature_selection.SelectFpr\n",
        "\n",
        "False discovery rate: https://en.wikipedia.org/wiki/False_discovery_rate\n",
        "\n",
        "Proporção esperada de erros do tipo I. Um erro do tipo I é quando a hipótese nula é rejeitada incorretamente, ou seja, é obtido um falso positivo\n",
        "\n",
        "Erro I: https://www.statisticshowto.datasciencecentral.com/probability-and-statistics/statistics-definitions/type-i-error-type-ii-error-decision/"
      ]
    },
    {
      "cell_type": "code",
      "metadata": {
        "id": "rTd0jRoTDiu5"
      },
      "source": [
        "import pandas as pd\n",
        "import numpy as np\n",
        "from sklearn.feature_selection import SelectFdr\n",
        "from sklearn.feature_selection import chi2\n",
        "from sklearn.naive_bayes import GaussianNB\n",
        "from sklearn.metrics import accuracy_score"
      ],
      "execution_count": null,
      "outputs": []
    },
    {
      "cell_type": "code",
      "metadata": {
        "id": "vCyFK8w4FdWt"
      },
      "source": [
        "dataset = pd.read_csv('ad.data', header=None)\n",
        "dataset.head()"
      ],
      "execution_count": null,
      "outputs": []
    },
    {
      "cell_type": "code",
      "metadata": {
        "id": "oMeJN0CxF8zT"
      },
      "source": [
        "dataset.shape"
      ],
      "execution_count": null,
      "outputs": []
    },
    {
      "cell_type": "code",
      "metadata": {
        "id": "WB4Us7TSGRQa"
      },
      "source": [
        "X = dataset.iloc[:, 0:1558].values\n",
        "X"
      ],
      "execution_count": null,
      "outputs": []
    },
    {
      "cell_type": "code",
      "metadata": {
        "id": "19jmEwA0GZEY"
      },
      "source": [
        "y = dataset.iloc[:, 1558].values\n",
        "y"
      ],
      "execution_count": null,
      "outputs": []
    },
    {
      "cell_type": "code",
      "metadata": {
        "id": "H_kbP6SZGeoE"
      },
      "source": [
        "np.unique(y, return_counts=True)"
      ],
      "execution_count": null,
      "outputs": []
    },
    {
      "cell_type": "markdown",
      "metadata": {
        "id": "0bbgtf7JgTD_"
      },
      "source": [
        "### Sem seleção de atributos"
      ]
    },
    {
      "cell_type": "code",
      "metadata": {
        "id": "sGCjtf-UGqav"
      },
      "source": [
        "naive1 = GaussianNB()\n",
        "naive1.fit(X, y)\n",
        "previsoes1 = naive1.predict(X)\n",
        "accuracy_score(y, previsoes1)"
      ],
      "execution_count": null,
      "outputs": []
    },
    {
      "cell_type": "markdown",
      "metadata": {
        "id": "5RAh67rcgV5m"
      },
      "source": [
        "### Seleção de atributos com Qui Quadrado"
      ]
    },
    {
      "cell_type": "code",
      "metadata": {
        "id": "aPeWwe1UG3Sb"
      },
      "source": [
        "selecao = SelectFdr(chi2, alpha=0.01)\n",
        "X_novo = selecao.fit_transform(X, y)"
      ],
      "execution_count": null,
      "outputs": []
    },
    {
      "cell_type": "code",
      "metadata": {
        "id": "8CR6iYuSHwe2"
      },
      "source": [
        "X.shape, X_novo.shape"
      ],
      "execution_count": null,
      "outputs": []
    },
    {
      "cell_type": "code",
      "metadata": {
        "id": "NkNuFBn4H4Ih"
      },
      "source": [
        "selecao.pvalues_, len(selecao.pvalues_)"
      ],
      "execution_count": null,
      "outputs": []
    },
    {
      "cell_type": "code",
      "metadata": {
        "id": "WVPcbq1OIs8q"
      },
      "source": [
        "np.sum(selecao.pvalues_ <= 0.01)"
      ],
      "execution_count": null,
      "outputs": []
    },
    {
      "cell_type": "code",
      "metadata": {
        "id": "XXJmcVHlJMSI"
      },
      "source": [
        "colunas = selecao.get_support()\n",
        "colunas"
      ],
      "execution_count": null,
      "outputs": []
    },
    {
      "cell_type": "code",
      "metadata": {
        "id": "oAVwiobFJThY"
      },
      "source": [
        "indices = np.where(colunas == True)\n",
        "indices"
      ],
      "execution_count": null,
      "outputs": []
    },
    {
      "cell_type": "code",
      "metadata": {
        "id": "n3L0X3vHJeEl"
      },
      "source": [
        "naive2 = GaussianNB()\n",
        "naive2.fit(X_novo, y)\n",
        "previsoes2 = naive2.predict(X_novo)\n",
        "accuracy_score(y, previsoes2)"
      ],
      "execution_count": null,
      "outputs": []
    },
    {
      "cell_type": "markdown",
      "metadata": {
        "id": "nxltqtRagaI7"
      },
      "source": [
        "### Seleção de atributos com ANOVA"
      ]
    },
    {
      "cell_type": "code",
      "metadata": {
        "id": "sLpv1dGTgo7E"
      },
      "source": [
        "#from sklearn.feature_selection import f_classif -- atualizado 10/08/2021\n",
        "from sklearn.feature_selection import SelectFdr, f_classif"
      ],
      "execution_count": null,
      "outputs": []
    },
    {
      "cell_type": "code",
      "metadata": {
        "id": "EYR9G7uBgce7"
      },
      "source": [
        "selecao = SelectFdr(f_classif, alpha = 0.01)\n",
        "X_novo_2 = selecao.fit_transform(X, y)"
      ],
      "execution_count": null,
      "outputs": []
    },
    {
      "cell_type": "code",
      "metadata": {
        "id": "Pq5OgLIaggBB"
      },
      "source": [
        "X.shape, X_novo.shape, X_novo_2.shape"
      ],
      "execution_count": null,
      "outputs": []
    },
    {
      "cell_type": "code",
      "metadata": {
        "id": "I6KqESvdghs7"
      },
      "source": [
        "selecao.pvalues_"
      ],
      "execution_count": null,
      "outputs": []
    },
    {
      "cell_type": "code",
      "metadata": {
        "id": "uJQWGRL7ghm_"
      },
      "source": [
        "np.sum(selecao.pvalues_ < 0.01)"
      ],
      "execution_count": null,
      "outputs": []
    },
    {
      "cell_type": "code",
      "metadata": {
        "id": "3uR2Sy0uglCZ"
      },
      "source": [
        "naive3 = GaussianNB()\n",
        "naive3.fit(X_novo_2, y)\n",
        "previsoes3 = naive3.predict(X_novo_2)\n",
        "accuracy_score(y, previsoes3)"
      ],
      "execution_count": null,
      "outputs": []
    },
    {
      "cell_type": "markdown",
      "metadata": {
        "id": "u_QdAYV1tSbH"
      },
      "source": [
        "## ANOVA"
      ]
    },
    {
      "cell_type": "code",
      "metadata": {
        "id": "VsAara8DtUU1"
      },
      "source": [
        "grupo_a = np.array([165, 152, 143, 140, 155])\n",
        "grupo_b = np.array([130, 169, 164, 143, 154])\n",
        "grupo_c = np.array([163, 158, 154, 149, 156])"
      ],
      "execution_count": null,
      "outputs": []
    },
    {
      "cell_type": "code",
      "metadata": {
        "id": "8loL6zqztvtm"
      },
      "source": [
        "from scipy.stats import f"
      ],
      "execution_count": null,
      "outputs": []
    },
    {
      "cell_type": "code",
      "metadata": {
        "id": "B5j6C5-Ltz3W"
      },
      "source": [
        "f.ppf(1 - 0.05, dfn = 2, dfd = 12)"
      ],
      "execution_count": null,
      "outputs": []
    },
    {
      "cell_type": "code",
      "metadata": {
        "id": "Sw_pUFo-uTX0"
      },
      "source": [
        "from scipy.stats import f_oneway"
      ],
      "execution_count": null,
      "outputs": []
    },
    {
      "cell_type": "code",
      "metadata": {
        "id": "97UFqxSNuflc"
      },
      "source": [
        "_, p = f_oneway(grupo_a, grupo_b, grupo_c)\n",
        "p"
      ],
      "execution_count": null,
      "outputs": []
    },
    {
      "cell_type": "code",
      "metadata": {
        "id": "DjRXn_Asu33E"
      },
      "source": [
        "alpha = 0.05\n",
        "if p <= alpha:\n",
        "  print('Hipótese nula rejeitada')\n",
        "else:\n",
        "  print('Hipótese alternativa rejeitada')"
      ],
      "execution_count": null,
      "outputs": []
    },
    {
      "cell_type": "markdown",
      "metadata": {
        "id": "2MCMtHretal3"
      },
      "source": [
        "### Teste de Tukey"
      ]
    },
    {
      "cell_type": "code",
      "metadata": {
        "id": "O-LTnFMRtcrU"
      },
      "source": [
        "dados = {'valores': [165, 152, 143, 140, 155, 130, 169, 164, 143, 154, 163, 158, 154, 149, 156],\n",
        "         'grupo': ['A', 'A', 'A', 'A', 'A', 'B', 'B', 'B', 'B', 'B', 'C', 'C', 'C', 'C', 'C']}"
      ],
      "execution_count": null,
      "outputs": []
    },
    {
      "cell_type": "code",
      "metadata": {
        "id": "9vYs_K1mwYSS"
      },
      "source": [
        "dados = {'valores': [70, 90, 80, 50, 20, 130, 169, 164, 143, 154, 163, 158, 154, 149, 156],\n",
        "         'grupo': ['A', 'A', 'A', 'A', 'A', 'B', 'B', 'B', 'B', 'B', 'C', 'C', 'C', 'C', 'C']}"
      ],
      "execution_count": null,
      "outputs": []
    },
    {
      "cell_type": "code",
      "metadata": {
        "id": "_uUqsdB6vd2F"
      },
      "source": [
        "import pandas as pd\n",
        "dados_pd = pd.DataFrame(dados)\n",
        "dados_pd"
      ],
      "execution_count": null,
      "outputs": []
    },
    {
      "cell_type": "code",
      "metadata": {
        "id": "YrSkP-EQvpDg"
      },
      "source": [
        "from statsmodels.stats.multicomp import MultiComparison"
      ],
      "execution_count": null,
      "outputs": []
    },
    {
      "cell_type": "code",
      "metadata": {
        "id": "MaRGQGC8vv88"
      },
      "source": [
        "compara_grupos = MultiComparison(dados_pd['valores'], dados_pd['grupo'])"
      ],
      "execution_count": null,
      "outputs": []
    },
    {
      "cell_type": "code",
      "metadata": {
        "id": "5SoHIQaNv52j"
      },
      "source": [
        "teste = compara_grupos.tukeyhsd()\n",
        "print(teste)"
      ],
      "execution_count": null,
      "outputs": []
    },
    {
      "cell_type": "code",
      "metadata": {
        "id": "gO_LVRxawRyU"
      },
      "source": [
        "teste.plot_simultaneous();"
      ],
      "execution_count": null,
      "outputs": []
    },
    {
      "cell_type": "code",
      "metadata": {
        "id": "r6wpHQCdxHK-"
      },
      "source": [
        "teste.plot_simultaneous();"
      ],
      "execution_count": null,
      "outputs": []
    },
    {
      "cell_type": "markdown",
      "metadata": {
        "id": "VlvLuFGftzoX"
      },
      "source": [
        "## Resultados dos algoritmos de machine learning"
      ]
    },
    {
      "cell_type": "code",
      "metadata": {
        "id": "TaTxvZxQt3mX"
      },
      "source": [
        "import pandas as pd\n",
        "from sklearn.naive_bayes import GaussianNB\n",
        "from sklearn.linear_model import LogisticRegression\n",
        "from sklearn.ensemble import RandomForestClassifier\n",
        "from sklearn.model_selection import cross_val_score, KFold\n",
        "dataset = pd.read_csv('credit_data.csv')\n",
        "dataset.dropna(inplace=True)\n",
        "dataset.head()"
      ],
      "execution_count": null,
      "outputs": []
    },
    {
      "cell_type": "code",
      "metadata": {
        "id": "7Kj8J4dHugLA"
      },
      "source": [
        "X = dataset.iloc[:, 1:4].values\n",
        "y = dataset.iloc[:, 4].values"
      ],
      "execution_count": null,
      "outputs": []
    },
    {
      "cell_type": "code",
      "metadata": {
        "id": "lBKWRjRCimdp"
      },
      "source": [
        "min(X[0]), max(X[0])"
      ],
      "execution_count": null,
      "outputs": []
    },
    {
      "cell_type": "code",
      "metadata": {
        "id": "69vrMWYOvpR-"
      },
      "source": [
        "from sklearn.preprocessing import StandardScaler\n",
        "scaler = StandardScaler()\n",
        "X = scaler.fit_transform(X)"
      ],
      "execution_count": null,
      "outputs": []
    },
    {
      "cell_type": "code",
      "metadata": {
        "id": "yuj6W1H3inmO"
      },
      "source": [
        "min(X[0]), max(X[0])"
      ],
      "execution_count": null,
      "outputs": []
    },
    {
      "cell_type": "code",
      "metadata": {
        "id": "NLUFz5Y1umSy"
      },
      "source": [
        "resultados_naive_cv = []\n",
        "resultados_logistica_cv = []\n",
        "resultados_forest_cv = []\n",
        "for i in range(30):\n",
        "  kfold = KFold(n_splits = 10, shuffle = True, random_state = i)\n",
        "  \n",
        "  naive_bayes = GaussianNB()\n",
        "  scores = cross_val_score(naive_bayes, X, y, cv = kfold)\n",
        "  resultados_naive_cv.append(scores.mean())\n",
        "\n",
        "  logistica = LogisticRegression()\n",
        "  scores = cross_val_score(logistica, X, y, cv = kfold)\n",
        "  resultados_logistica_cv.append(scores.mean())  \n",
        "  \n",
        "  random_forest = RandomForestClassifier()\n",
        "  scores = cross_val_score(random_forest, X, y, cv = kfold)\n",
        "  resultados_forest_cv.append(scores.mean())\n",
        "\n",
        "resultados_naive_cv = np.array(resultados_naive_cv)\n",
        "resultados_logistica_cv = np.array(resultados_logistica_cv)\n",
        "resultados_forest_cv = np.array(resultados_forest_cv)"
      ],
      "execution_count": null,
      "outputs": []
    },
    {
      "cell_type": "code",
      "metadata": {
        "id": "NOjirklIvXoL"
      },
      "source": [
        "resultados_naive_cv.mean(), resultados_logistica_cv.mean(), resultados_forest_cv.mean()"
      ],
      "execution_count": null,
      "outputs": []
    },
    {
      "cell_type": "markdown",
      "metadata": {
        "id": "8rCe0v4fi10s"
      },
      "source": [
        "### Teste de hipótese de Shapiro-Wilk\n",
        "\n",
        "- https://en.wikipedia.org/wiki/Shapiro%E2%80%93Wilk_test"
      ]
    },
    {
      "cell_type": "code",
      "metadata": {
        "id": "GOZQqYWXlanI"
      },
      "source": [
        "alpha = 0.05"
      ],
      "execution_count": null,
      "outputs": []
    },
    {
      "cell_type": "code",
      "metadata": {
        "id": "nOoajbVrl1Cq"
      },
      "source": [
        "from scipy.stats import shapiro\n",
        "shapiro(resultados_naive_cv), shapiro(resultados_logistica_cv), shapiro(resultados_forest_cv)"
      ],
      "execution_count": null,
      "outputs": []
    },
    {
      "cell_type": "code",
      "metadata": {
        "id": "UaUuxPYmoCt8"
      },
      "source": [
        "import seaborn as sns\n",
        "sns.distplot(resultados_naive_cv);"
      ],
      "execution_count": null,
      "outputs": []
    },
    {
      "cell_type": "code",
      "metadata": {
        "id": "LTbfMOFSoKH1"
      },
      "source": [
        "sns.distplot(resultados_logistica_cv);"
      ],
      "execution_count": null,
      "outputs": []
    },
    {
      "cell_type": "code",
      "metadata": {
        "id": "7KEN8VRyoWcz"
      },
      "source": [
        "sns.distplot(resultados_forest_cv);"
      ],
      "execution_count": null,
      "outputs": []
    },
    {
      "cell_type": "markdown",
      "metadata": {
        "id": "MYo_sPTti2se"
      },
      "source": [
        "### Teste de hipótese de D'Agostinho K^2\n",
        "\n",
        "- https://en.wikipedia.org/wiki/D%27Agostino%27s_K-squared_test"
      ]
    },
    {
      "cell_type": "code",
      "metadata": {
        "id": "lJrpUI5eo2vT"
      },
      "source": [
        "from scipy.stats import normaltest\n",
        "normaltest(resultados_naive_cv), normaltest(resultados_logistica_cv), normaltest(resultados_forest_cv)"
      ],
      "execution_count": null,
      "outputs": []
    },
    {
      "cell_type": "markdown",
      "metadata": {
        "id": "LCQYneAmi-yy"
      },
      "source": [
        "### Teste de hipótese de Anderson-Darling\n",
        "\n",
        "- https://en.wikipedia.org/wiki/Anderson%E2%80%93Darling_test"
      ]
    },
    {
      "cell_type": "code",
      "metadata": {
        "id": "sdXs8I9DpK75"
      },
      "source": [
        "from scipy.stats import anderson\n",
        "anderson(resultados_naive_cv).statistic, anderson(resultados_logistica_cv).statistic, anderson(resultados_forest_cv).statistic"
      ],
      "execution_count": null,
      "outputs": []
    },
    {
      "cell_type": "markdown",
      "metadata": {
        "id": "ACk3dMvszWMw"
      },
      "source": [
        "### Testes não paramétricos\n",
        "\n",
        "- https://www.statisticshowto.com/parametric-and-non-parametric-data/#:~:text=Nonparametric%20tests%20can%20perform%20well,20%20items%20in%20each%20group).\n",
        "\n",
        "If at all possible, you should us parametric tests, as they tend to be more accurate. Parametric tests have greater statistical power, which means they are likely to find a true significant effect. Use nonparametric tests only if you have to (i.e. you know that assumptions like normality are being violated). Nonparametric tests can perform well with non-normal continuous data if you have a sufficiently large sample size (generally 15-20 items in each group)."
      ]
    },
    {
      "cell_type": "markdown",
      "metadata": {
        "id": "qb8DEUMc3c87"
      },
      "source": [
        "### Teste de Wilcoxon Signed-Rank\n",
        "\n",
        "- https://en.wikipedia.org/wiki/Wilcoxon_signed-rank_test"
      ]
    },
    {
      "cell_type": "code",
      "metadata": {
        "id": "59bsj5xF7jQK"
      },
      "source": [
        "alpha = 0.05"
      ],
      "execution_count": null,
      "outputs": []
    },
    {
      "cell_type": "code",
      "metadata": {
        "id": "_w42NArT7uMz"
      },
      "source": [
        "from scipy.stats import wilcoxon\n",
        "_, p = wilcoxon(resultados_naive_cv, resultados_logistica_cv)\n",
        "p"
      ],
      "execution_count": null,
      "outputs": []
    },
    {
      "cell_type": "code",
      "metadata": {
        "id": "i6BnQbov7-ne"
      },
      "source": [
        "_, p = wilcoxon(resultados_naive_cv, resultados_forest_cv)\n",
        "p"
      ],
      "execution_count": null,
      "outputs": []
    },
    {
      "cell_type": "code",
      "metadata": {
        "id": "QNqsPx9d8I7k"
      },
      "source": [
        "_, p = wilcoxon(resultados_logistica_cv, resultados_forest_cv)\n",
        "p"
      ],
      "execution_count": null,
      "outputs": []
    },
    {
      "cell_type": "markdown",
      "metadata": {
        "id": "qGxpe2bX3f1V"
      },
      "source": [
        "### Teste de Friedman\n",
        "\n",
        "- https://en.wikipedia.org/wiki/Friedman_test\n",
        "- Teste de Nemenyi: https://en.wikipedia.org/wiki/Nemenyi_test"
      ]
    },
    {
      "cell_type": "code",
      "metadata": {
        "id": "d7GKxH4i8gRR"
      },
      "source": [
        "from scipy.stats import friedmanchisquare"
      ],
      "execution_count": null,
      "outputs": []
    },
    {
      "cell_type": "code",
      "metadata": {
        "id": "QkhXI-Xi8llF"
      },
      "source": [
        "_, p = friedmanchisquare(resultados_naive_cv, resultados_logistica_cv, resultados_forest_cv)\n",
        "p"
      ],
      "execution_count": null,
      "outputs": []
    },
    {
      "cell_type": "markdown",
      "metadata": {
        "id": "IDGYm_u89P61"
      },
      "source": [
        "## ANOVA e Tukey - algoritmos"
      ]
    },
    {
      "cell_type": "code",
      "metadata": {
        "id": "AWZy5oww9riI"
      },
      "source": [
        "from scipy.stats import f_oneway"
      ],
      "execution_count": null,
      "outputs": []
    },
    {
      "cell_type": "code",
      "metadata": {
        "id": "tw-fKXMb9taa"
      },
      "source": [
        "_, p = f_oneway(resultados_naive_cv, resultados_logistica_cv, resultados_forest_cv)\n",
        "p"
      ],
      "execution_count": null,
      "outputs": []
    },
    {
      "cell_type": "code",
      "metadata": {
        "id": "TjyfGviS9yWi"
      },
      "source": [
        "alpha = 0.05\n",
        "if p <= alpha:\n",
        "  print('Hipótese nula rejeitada. Dados são diferentes')\n",
        "else:\n",
        "  print('Hipótese alternativa rejeitada')"
      ],
      "execution_count": null,
      "outputs": []
    },
    {
      "cell_type": "code",
      "metadata": {
        "id": "fXNdBr5r9WTW"
      },
      "source": [
        "resultados_algoritmos = {'accuracy': np.concatenate([resultados_naive_cv, resultados_logistica_cv, resultados_forest_cv]),\n",
        "                         'algoritmo': ['naive', 'naive','naive','naive','naive','naive','naive','naive','naive','naive',\n",
        "                                       'naive', 'naive','naive','naive','naive','naive','naive','naive','naive','naive',\n",
        "                                       'naive', 'naive','naive','naive','naive','naive','naive','naive','naive','naive',\n",
        "                                       'logistic','logistic','logistic','logistic','logistic','logistic','logistic','logistic','logistic','logistic',\n",
        "                                       'logistic','logistic','logistic','logistic','logistic','logistic','logistic','logistic','logistic','logistic',\n",
        "                                       'logistic','logistic','logistic','logistic','logistic','logistic','logistic','logistic','logistic','logistic',\n",
        "                                       'forest','forest','forest','forest','forest','forest','forest','forest','forest','forest',\n",
        "                                       'forest','forest','forest','forest','forest','forest','forest','forest','forest','forest',\n",
        "                                       'forest','forest','forest','forest','forest','forest','forest','forest','forest','forest']}"
      ],
      "execution_count": null,
      "outputs": []
    },
    {
      "cell_type": "code",
      "metadata": {
        "id": "i-DowvGw9mHd"
      },
      "source": [
        "import pandas as pd\n",
        "resultados_df = pd.DataFrame(resultados_algoritmos)\n",
        "resultados_df"
      ],
      "execution_count": null,
      "outputs": []
    },
    {
      "cell_type": "code",
      "metadata": {
        "id": "4CajsOQO92fX"
      },
      "source": [
        "from statsmodels.stats.multicomp import MultiComparison"
      ],
      "execution_count": null,
      "outputs": []
    },
    {
      "cell_type": "code",
      "metadata": {
        "id": "JfaElBYP94aX"
      },
      "source": [
        "compara_grupos = MultiComparison(resultados_df['accuracy'], resultados_df['algoritmo'])"
      ],
      "execution_count": null,
      "outputs": []
    },
    {
      "cell_type": "code",
      "metadata": {
        "id": "Y611E8jN96mW"
      },
      "source": [
        "teste = compara_grupos.tukeyhsd()\n",
        "print(teste)"
      ],
      "execution_count": null,
      "outputs": []
    },
    {
      "cell_type": "code",
      "metadata": {
        "id": "JRQGtEtJ98J-"
      },
      "source": [
        "teste.plot_simultaneous();"
      ],
      "execution_count": null,
      "outputs": []
    },
    {
      "cell_type": "markdown",
      "metadata": {
        "id": "bliM1DMYDdy6"
      },
      "source": [
        "## Geração do arquivo com os resultados para o teste de Nemenyi"
      ]
    },
    {
      "cell_type": "code",
      "metadata": {
        "id": "CGsI2gmMDh_s"
      },
      "source": [
        "resultados_algoritmos = {'naive_bayes': resultados_naive_cv,\n",
        "                         'logistica': resultados_logistica_cv,\n",
        "                         'random_forest': resultados_forest_cv}"
      ],
      "execution_count": null,
      "outputs": []
    },
    {
      "cell_type": "code",
      "metadata": {
        "id": "xCJ62RKtDwT-"
      },
      "source": [
        "resultados_df = pd.DataFrame(resultados_algoritmos)\n",
        "resultados_df"
      ],
      "execution_count": null,
      "outputs": []
    },
    {
      "cell_type": "code",
      "metadata": {
        "id": "8IK7w4s_D4Tb"
      },
      "source": [
        "resultados_df.to_excel('resultados_excel.xlsx', sheet_name='resultados')"
      ],
      "execution_count": null,
      "outputs": []
    },
    {
      "cell_type": "markdown",
      "metadata": {
        "id": "HOuF6CNyJiAm"
      },
      "source": [
        "## Dados não normais"
      ]
    },
    {
      "cell_type": "code",
      "metadata": {
        "id": "G4OM38JrJjqk"
      },
      "source": [
        "import pandas as pd\n",
        "dataset = pd.read_csv('trip_d1_d2.csv', sep = ';')\n",
        "dataset.head()"
      ],
      "execution_count": null,
      "outputs": []
    },
    {
      "cell_type": "code",
      "metadata": {
        "id": "IZvywv0qKvdJ"
      },
      "source": [
        "import seaborn as sns\n",
        "sns.distplot(dataset['D1']);"
      ],
      "execution_count": null,
      "outputs": []
    },
    {
      "cell_type": "code",
      "metadata": {
        "id": "z1a6Sx7QK_pe"
      },
      "source": [
        "sns.distplot(dataset['D2']);"
      ],
      "execution_count": null,
      "outputs": []
    },
    {
      "cell_type": "code",
      "metadata": {
        "id": "lRc1SRqyLGpQ"
      },
      "source": [
        "print(dataset['D2'])"
      ],
      "execution_count": null,
      "outputs": []
    },
    {
      "cell_type": "code",
      "metadata": {
        "id": "tqA-NGawLU-J"
      },
      "source": [
        "alpha = 0.05\n",
        "from scipy.stats import shapiro\n",
        "shapiro(dataset['D1']), shapiro(dataset['D2'])"
      ],
      "execution_count": null,
      "outputs": []
    },
    {
      "cell_type": "code",
      "metadata": {
        "id": "V-viMmmgL64N"
      },
      "source": [
        "from scipy.stats import friedmanchisquare\n",
        "_, p = friedmanchisquare(dataset['D1'], dataset['D2'])\n",
        "p"
      ],
      "execution_count": null,
      "outputs": []
    },
    {
      "cell_type": "code",
      "metadata": {
        "id": "avA0ORiZMOjR"
      },
      "source": [
        "from scipy.stats import wilcoxon\n",
        "_, p = wilcoxon(dataset['D1'], dataset['D2'])\n",
        "p"
      ],
      "execution_count": null,
      "outputs": []
    },
    {
      "cell_type": "code",
      "metadata": {
        "id": "jqVG1CpaMcEA"
      },
      "source": [
        "dataset['D1'].mean(), dataset['D2'].mean()"
      ],
      "execution_count": null,
      "outputs": []
    }
  ]
}