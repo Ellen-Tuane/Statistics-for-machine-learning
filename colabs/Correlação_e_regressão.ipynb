{
  "nbformat": 4,
  "nbformat_minor": 0,
  "metadata": {
    "colab": {
      "name": "Correlação e regressão.ipynb",
      "provenance": [],
      "include_colab_link": true
    },
    "kernelspec": {
      "name": "python3",
      "display_name": "Python 3"
    }
  },
  "cells": [
    {
      "cell_type": "markdown",
      "metadata": {
        "id": "view-in-github",
        "colab_type": "text"
      },
      "source": [
        "<a href=\"https://colab.research.google.com/github/Ellen-Tuane/Statistics-for-machine-learning/blob/master/colabs/Correla%C3%A7%C3%A3o_e_regress%C3%A3o.ipynb\" target=\"_parent\"><img src=\"https://colab.research.google.com/assets/colab-badge.svg\" alt=\"Open In Colab\"/></a>"
      ]
    },
    {
      "cell_type": "markdown",
      "metadata": {
        "id": "Q99jG9Sy6E91"
      },
      "source": [
        "# Correlação e regressão"
      ]
    },
    {
      "cell_type": "markdown",
      "metadata": {
        "id": "iaQ5XfiY6rLR"
      },
      "source": [
        "## Importações"
      ]
    },
    {
      "cell_type": "code",
      "metadata": {
        "id": "FTXDxVOh6smE"
      },
      "source": [
        "import numpy as np\n",
        "import pandas as pd\n",
        "import seaborn as sns\n",
        "import math"
      ],
      "execution_count": null,
      "outputs": []
    },
    {
      "cell_type": "markdown",
      "metadata": {
        "id": "FFRBag6y6Hdf"
      },
      "source": [
        "## Base de dados"
      ]
    },
    {
      "cell_type": "code",
      "metadata": {
        "id": "x84nHbV7TbyD"
      },
      "source": [
        "tamanho = np.array([30, 39, 49, 60])\n",
        "preco = np.array([57000, 69000, 77000, 90000])"
      ],
      "execution_count": null,
      "outputs": []
    },
    {
      "cell_type": "code",
      "metadata": {
        "id": "eBDpKe_VTvYb"
      },
      "source": [
        "dataset = pd.DataFrame({'tamanho': tamanho, 'preco': preco})\n",
        "dataset"
      ],
      "execution_count": null,
      "outputs": []
    },
    {
      "cell_type": "code",
      "metadata": {
        "id": "OlZfaue0T46Z"
      },
      "source": [
        "media_tamanho = dataset['tamanho'].mean()\n",
        "media_preco = dataset['preco'].mean()\n",
        "media_tamanho, media_preco"
      ],
      "execution_count": null,
      "outputs": []
    },
    {
      "cell_type": "code",
      "metadata": {
        "id": "XUqgHxrBUEYG"
      },
      "source": [
        "dp_tamanho = dataset['tamanho'].std()\n",
        "dp_preco = dataset['preco'].std()\n",
        "dp_tamanho, dp_preco"
      ],
      "execution_count": null,
      "outputs": []
    },
    {
      "cell_type": "markdown",
      "metadata": {
        "id": "eCJ7St-fBK_p"
      },
      "source": [
        "## Correlação - cálculo manual"
      ]
    },
    {
      "cell_type": "code",
      "metadata": {
        "id": "uo3xXE75UNSZ"
      },
      "source": [
        "dataset['dif'] = (dataset['tamanho'] - media_tamanho) * (dataset['preco'] - media_preco)\n",
        "dataset"
      ],
      "execution_count": null,
      "outputs": []
    },
    {
      "cell_type": "code",
      "metadata": {
        "id": "RNgGBlDKUkfF"
      },
      "source": [
        "soma_dif = dataset['dif'].sum()\n",
        "soma_dif"
      ],
      "execution_count": null,
      "outputs": []
    },
    {
      "cell_type": "code",
      "metadata": {
        "id": "SFsaZNIMUpkZ"
      },
      "source": [
        "covariancia = soma_dif / (len(dataset) - 1)\n",
        "covariancia"
      ],
      "execution_count": null,
      "outputs": []
    },
    {
      "cell_type": "code",
      "metadata": {
        "id": "RzqahuEkU5Yo"
      },
      "source": [
        "coeficiente_correlacao = covariancia / (dp_tamanho * dp_preco)\n",
        "coeficiente_correlacao"
      ],
      "execution_count": null,
      "outputs": []
    },
    {
      "cell_type": "code",
      "metadata": {
        "id": "1aw2nCfIVCJA"
      },
      "source": [
        "sns.scatterplot(tamanho, preco);"
      ],
      "execution_count": null,
      "outputs": []
    },
    {
      "cell_type": "code",
      "metadata": {
        "id": "l_VHHyYHVMEi"
      },
      "source": [
        "coeficiente_determinacao = math.pow(coeficiente_correlacao, 2)\n",
        "coeficiente_determinacao"
      ],
      "execution_count": null,
      "outputs": []
    },
    {
      "cell_type": "markdown",
      "metadata": {
        "id": "DCI2PW-5IKAw"
      },
      "source": [
        "## Correlação - cálculo com numpy a pandas"
      ]
    },
    {
      "cell_type": "code",
      "metadata": {
        "id": "jl-F-YUwVZBe"
      },
      "source": [
        "np.cov(tamanho, preco)"
      ],
      "execution_count": null,
      "outputs": []
    },
    {
      "cell_type": "code",
      "metadata": {
        "id": "83pFjZsGVixl"
      },
      "source": [
        "dataset.cov()"
      ],
      "execution_count": null,
      "outputs": []
    },
    {
      "cell_type": "code",
      "metadata": {
        "id": "YzXl6AgPV2Yy"
      },
      "source": [
        "np.corrcoef(tamanho, preco)"
      ],
      "execution_count": null,
      "outputs": []
    },
    {
      "cell_type": "code",
      "metadata": {
        "id": "wSR3uy_JV7C6"
      },
      "source": [
        "dataset.corr()"
      ],
      "execution_count": null,
      "outputs": []
    },
    {
      "cell_type": "markdown",
      "metadata": {
        "id": "HrvWd_j67H0F"
      },
      "source": [
        "## Exercício - correlação base de dados preço das casas"
      ]
    },
    {
      "cell_type": "code",
      "metadata": {
        "id": "gEpQ6aF2WVxH"
      },
      "source": [
        "dataset = pd.read_csv('house_prices.csv')\n",
        "dataset.head()"
      ],
      "execution_count": null,
      "outputs": []
    },
    {
      "cell_type": "code",
      "metadata": {
        "id": "3EGfQ8hwWXkf"
      },
      "source": [
        "dataset.drop(labels = ['id', 'date', 'sqft_living', 'sqft_lot'], axis = 1, inplace=True)\n",
        "dataset.head()"
      ],
      "execution_count": null,
      "outputs": []
    },
    {
      "cell_type": "code",
      "metadata": {
        "id": "KLBbI9n8WZQA"
      },
      "source": [
        "dataset.corr()"
      ],
      "execution_count": null,
      "outputs": []
    },
    {
      "cell_type": "code",
      "metadata": {
        "id": "qeg28RaOWa3y"
      },
      "source": [
        "sns.scatterplot(dataset['sqft_living15'], dataset['price']);"
      ],
      "execution_count": null,
      "outputs": []
    },
    {
      "cell_type": "code",
      "metadata": {
        "id": "56Z9xXdcYFn7"
      },
      "source": [
        "sns.scatterplot(dataset['grade'], dataset['price']);"
      ],
      "execution_count": null,
      "outputs": []
    },
    {
      "cell_type": "code",
      "metadata": {
        "id": "PeqegHmDWcdZ"
      },
      "source": [
        "sns.scatterplot(dataset['long'], dataset['price']);"
      ],
      "execution_count": null,
      "outputs": []
    },
    {
      "cell_type": "code",
      "metadata": {
        "id": "0q1EdnTeWeAN"
      },
      "source": [
        "sns.heatmap(dataset.corr(), annot=True);"
      ],
      "execution_count": null,
      "outputs": []
    },
    {
      "cell_type": "code",
      "metadata": {
        "id": "Q0g6wvHXWfjx"
      },
      "source": [
        "import matplotlib.pyplot as plt\n",
        "fig, ax = plt.subplots(figsize=(15,15))\n",
        "ax = sns.heatmap(dataset.corr(), annot=True)"
      ],
      "execution_count": null,
      "outputs": []
    },
    {
      "cell_type": "markdown",
      "metadata": {
        "id": "5nNd-B6BBwlx"
      },
      "source": [
        "## Correlação com a biblioteca Yellowbrick\n",
        "\n",
        "- https://www.scikit-yb.org/en/latest/"
      ]
    },
    {
      "cell_type": "code",
      "metadata": {
        "id": "iRV2ZUT7aDgc"
      },
      "source": [
        "!pip install yellowbrick --upgrade"
      ],
      "execution_count": null,
      "outputs": []
    },
    {
      "cell_type": "code",
      "metadata": {
        "id": "Z5w3577zaMsA"
      },
      "source": [
        "from yellowbrick.target import FeatureCorrelation"
      ],
      "execution_count": null,
      "outputs": []
    },
    {
      "cell_type": "code",
      "metadata": {
        "id": "lOiMIs80aVI-"
      },
      "source": [
        "dataset.columns[1:]"
      ],
      "execution_count": null,
      "outputs": []
    },
    {
      "cell_type": "code",
      "metadata": {
        "id": "uNkZmu-IadUC"
      },
      "source": [
        "grafico = FeatureCorrelation(labels = dataset.columns[1:])\n",
        "grafico.fit(dataset.iloc[:, 1:16].values, dataset.iloc[:, 0].values)\n",
        "grafico.show();"
      ],
      "execution_count": null,
      "outputs": []
    },
    {
      "cell_type": "markdown",
      "metadata": {
        "id": "9EvUhkz05HJF"
      },
      "source": [
        "## Regressão\n",
        "\n",
        "- Correlação: relacionamento entre variáveis, uma variável afeta a outra. Duas vias: correlação de price x sqft_living = correlação sqft_living x price\n",
        "- Regressão é uma via: sqft_living para prever o preço é diferente de utilizar o preço para prever sqft_living\n",
        "- Espera-se que a correlação seja de moderada a forte para obter um bom modelo (positiva ou negativa)\n",
        "- Coeficiente de determinação (R2): > 0.7 é um bom valor. Entre 0 e 0.3 é ruim. Entre esses valores é interessante fazer testes\n",
        "- Regressão linear: existir lineariedade"
      ]
    },
    {
      "cell_type": "code",
      "metadata": {
        "id": "NYSJVVjt5INI"
      },
      "source": [
        "dataset = pd.read_csv('house_prices.csv')\n",
        "dataset.head()"
      ],
      "execution_count": null,
      "outputs": []
    },
    {
      "cell_type": "code",
      "metadata": {
        "id": "iVxzQdIU8SiZ"
      },
      "source": [
        "dataset.drop(labels = ['id', 'date'], axis = 1, inplace=True)\n",
        "dataset.head()"
      ],
      "execution_count": null,
      "outputs": []
    },
    {
      "cell_type": "code",
      "metadata": {
        "id": "sYeRNomk8Qi3"
      },
      "source": [
        "import matplotlib.pyplot as plt\n",
        "fig, ax = plt.subplots(figsize=(15,15))\n",
        "ax = sns.heatmap(dataset.corr(), annot=True)"
      ],
      "execution_count": null,
      "outputs": []
    },
    {
      "cell_type": "code",
      "metadata": {
        "id": "qaHJVcKtAUg1"
      },
      "source": [
        "math.pow(0.7, 2)"
      ],
      "execution_count": null,
      "outputs": []
    },
    {
      "cell_type": "markdown",
      "metadata": {
        "id": "QEjK9BDjAm7I"
      },
      "source": [
        "### Regressão linear simples\n",
        "\n",
        "- https://scikit-learn.org/stable/modules/generated/sklearn.linear_model.LinearRegression.html"
      ]
    },
    {
      "cell_type": "code",
      "metadata": {
        "id": "2e7Q70RTAnqi"
      },
      "source": [
        "X = dataset['sqft_living'].values\n",
        "X.shape"
      ],
      "execution_count": null,
      "outputs": []
    },
    {
      "cell_type": "code",
      "metadata": {
        "id": "Z6L6bZD8AzAk"
      },
      "source": [
        "X = X.reshape(-1, 1)\n",
        "X.shape"
      ],
      "execution_count": null,
      "outputs": []
    },
    {
      "cell_type": "code",
      "metadata": {
        "id": "0djccEbHA4sQ"
      },
      "source": [
        "y = dataset['price'].values\n",
        "y"
      ],
      "execution_count": null,
      "outputs": []
    },
    {
      "cell_type": "code",
      "metadata": {
        "id": "ADSbxcKRA9Mv"
      },
      "source": [
        "from sklearn.model_selection import train_test_split\n",
        "X_treinamento, X_teste, y_treinamento, y_teste = train_test_split(X, y, test_size = 0.2, random_state = 1)\n",
        "X_treinamento.shape, X_teste.shape"
      ],
      "execution_count": null,
      "outputs": []
    },
    {
      "cell_type": "code",
      "metadata": {
        "id": "4XCXYfU4BRYe"
      },
      "source": [
        "from sklearn.linear_model import LinearRegression\n",
        "regressor = LinearRegression()\n",
        "regressor.fit(X_treinamento, y_treinamento)"
      ],
      "execution_count": null,
      "outputs": []
    },
    {
      "cell_type": "code",
      "metadata": {
        "id": "Fpea09KHBazN"
      },
      "source": [
        "# b0\n",
        "regressor.intercept_"
      ],
      "execution_count": null,
      "outputs": []
    },
    {
      "cell_type": "code",
      "metadata": {
        "id": "r0kG4GvSBeYd"
      },
      "source": [
        "# b1\n",
        "regressor.coef_"
      ],
      "execution_count": null,
      "outputs": []
    },
    {
      "cell_type": "code",
      "metadata": {
        "id": "xQVWFFicB9vA"
      },
      "source": [
        "regressor.intercept_ + regressor.coef_ * 900"
      ],
      "execution_count": null,
      "outputs": []
    },
    {
      "cell_type": "code",
      "metadata": {
        "id": "rOacsWXfCOGB"
      },
      "source": [
        "regressor.predict(np.array([[900]]))"
      ],
      "execution_count": null,
      "outputs": []
    },
    {
      "cell_type": "code",
      "metadata": {
        "id": "djUjuktLCaxd"
      },
      "source": [
        "import matplotlib.pyplot as plt\n",
        "plt.scatter(X, y)\n",
        "plt.plot(X, regressor.predict(X), color = 'red')"
      ],
      "execution_count": null,
      "outputs": []
    },
    {
      "cell_type": "code",
      "metadata": {
        "id": "N3ir40X5C25f"
      },
      "source": [
        "regressor.score(X_treinamento, y_treinamento)"
      ],
      "execution_count": null,
      "outputs": []
    },
    {
      "cell_type": "code",
      "metadata": {
        "id": "9hikJ307DCsx"
      },
      "source": [
        "regressor.score(X_teste, y_teste)"
      ],
      "execution_count": null,
      "outputs": []
    },
    {
      "cell_type": "markdown",
      "metadata": {
        "id": "0nmpTb_NEuur"
      },
      "source": [
        "### Métricas de erros"
      ]
    },
    {
      "cell_type": "code",
      "metadata": {
        "id": "u1d0mMqEEwb8"
      },
      "source": [
        "previsoes = regressor.predict(X_teste)"
      ],
      "execution_count": null,
      "outputs": []
    },
    {
      "cell_type": "code",
      "metadata": {
        "id": "jGyVl3KYE2BQ"
      },
      "source": [
        "previsoes, y_teste"
      ],
      "execution_count": null,
      "outputs": []
    },
    {
      "cell_type": "code",
      "metadata": {
        "id": "aYTU3Ni3FF5h"
      },
      "source": [
        "from sklearn.metrics import mean_absolute_error, mean_squared_error"
      ],
      "execution_count": null,
      "outputs": []
    },
    {
      "cell_type": "code",
      "metadata": {
        "id": "Mb0_wq37FODL"
      },
      "source": [
        "mean_absolute_error(y_teste, previsoes)"
      ],
      "execution_count": null,
      "outputs": []
    },
    {
      "cell_type": "code",
      "metadata": {
        "id": "CL8xKzFvFYhE"
      },
      "source": [
        "mean_squared_error(y_teste, previsoes)"
      ],
      "execution_count": null,
      "outputs": []
    },
    {
      "cell_type": "code",
      "metadata": {
        "id": "0RE8WjSLFkLM"
      },
      "source": [
        "math.sqrt(mean_squared_error(y_teste, previsoes))"
      ],
      "execution_count": null,
      "outputs": []
    },
    {
      "cell_type": "markdown",
      "metadata": {
        "id": "VzS6a6yCGAZE"
      },
      "source": [
        "### Regressão linear múltipla"
      ]
    },
    {
      "cell_type": "code",
      "metadata": {
        "id": "fVZTEA7YGCSS"
      },
      "source": [
        "import matplotlib.pyplot as plt\n",
        "fig, ax = plt.subplots(figsize=(15,15))\n",
        "ax = sns.heatmap(dataset.corr(), annot=True)"
      ],
      "execution_count": null,
      "outputs": []
    },
    {
      "cell_type": "code",
      "metadata": {
        "id": "zZWYRE0MGFXr"
      },
      "source": [
        "dataset.head()"
      ],
      "execution_count": null,
      "outputs": []
    },
    {
      "cell_type": "code",
      "metadata": {
        "id": "MRewnfVjGoxz"
      },
      "source": [
        "X = dataset.iloc[:, [2, 3, 9, 10]].values\n",
        "X"
      ],
      "execution_count": null,
      "outputs": []
    },
    {
      "cell_type": "code",
      "metadata": {
        "id": "uchy7zPYGv09"
      },
      "source": [
        "y = dataset.iloc[:, 0].values\n",
        "y"
      ],
      "execution_count": null,
      "outputs": []
    },
    {
      "cell_type": "code",
      "metadata": {
        "id": "cbTRXN67H2XC"
      },
      "source": [
        "import matplotlib.pyplot as plt\n",
        "f, ax = plt.subplots(2, 2)\n",
        "ax[0, 0].hist(X[0])\n",
        "ax[0, 1].hist(X[1])\n",
        "ax[1, 0].hist(X[2])\n",
        "ax[1, 1].hist(X[3]);"
      ],
      "execution_count": null,
      "outputs": []
    },
    {
      "cell_type": "code",
      "metadata": {
        "id": "4OFlfCMOIh8T"
      },
      "source": [
        "plt.hist(y);"
      ],
      "execution_count": null,
      "outputs": []
    },
    {
      "cell_type": "code",
      "metadata": {
        "id": "Q65v1P27Ilzm"
      },
      "source": [
        "y = np.log(y)"
      ],
      "execution_count": null,
      "outputs": []
    },
    {
      "cell_type": "code",
      "metadata": {
        "id": "AzuunhnKIo52"
      },
      "source": [
        "plt.hist(y);"
      ],
      "execution_count": null,
      "outputs": []
    },
    {
      "cell_type": "code",
      "metadata": {
        "id": "CtYL6vsQG53U"
      },
      "source": [
        "from sklearn.model_selection import train_test_split\n",
        "X_treinamento, X_teste, y_treinamento, y_teste = train_test_split(X, y, test_size = 0.2, random_state = 1)\n",
        "X_treinamento.shape, X_teste.shape"
      ],
      "execution_count": null,
      "outputs": []
    },
    {
      "cell_type": "code",
      "metadata": {
        "id": "8RtO9W0_G8wt"
      },
      "source": [
        "from sklearn.linear_model import LinearRegression\n",
        "regressor = LinearRegression()\n",
        "regressor.fit(X_treinamento, y_treinamento)"
      ],
      "execution_count": null,
      "outputs": []
    },
    {
      "cell_type": "code",
      "metadata": {
        "id": "IJeMNx_UHesd"
      },
      "source": [
        "regressor.score(X_treinamento, y_treinamento)"
      ],
      "execution_count": null,
      "outputs": []
    },
    {
      "cell_type": "code",
      "metadata": {
        "id": "DoTANJ0RHlt3"
      },
      "source": [
        "regressor.score(X_teste, y_teste)"
      ],
      "execution_count": null,
      "outputs": []
    },
    {
      "cell_type": "code",
      "metadata": {
        "id": "dXjj3ar1HrSW"
      },
      "source": [
        "previsoes = regressor.predict(X_teste)\n",
        "mean_absolute_error(y_teste, previsoes)"
      ],
      "execution_count": null,
      "outputs": []
    },
    {
      "cell_type": "markdown",
      "metadata": {
        "id": "LJb1ZcFVJFBy"
      },
      "source": [
        "## Exercício"
      ]
    },
    {
      "cell_type": "code",
      "metadata": {
        "id": "0akG_A90JGev"
      },
      "source": [
        "dataset.head()"
      ],
      "execution_count": null,
      "outputs": []
    },
    {
      "cell_type": "code",
      "metadata": {
        "id": "LRTlBwe5JgfA"
      },
      "source": [
        "dataset.drop(labels = ['sqft_living15', 'sqft_lot15'], axis = 1, inplace=True)\n",
        "dataset.head()"
      ],
      "execution_count": null,
      "outputs": []
    },
    {
      "cell_type": "code",
      "metadata": {
        "id": "A6eucRr5JJUX"
      },
      "source": [
        "X = dataset.iloc[:, 1:17].values\n",
        "y = dataset.iloc[:, 0].values"
      ],
      "execution_count": null,
      "outputs": []
    },
    {
      "cell_type": "code",
      "metadata": {
        "id": "tJeVoe86JKzO"
      },
      "source": [
        "from sklearn.model_selection import train_test_split\n",
        "from sklearn.linear_model import LinearRegression\n",
        "X_treinamento, X_teste, y_treinamento, y_teste = train_test_split(X, y, test_size = 0.2, random_state = 1)\n",
        "regressor = LinearRegression()\n",
        "regressor.fit(X_treinamento, y_treinamento)"
      ],
      "execution_count": null,
      "outputs": []
    },
    {
      "cell_type": "code",
      "metadata": {
        "id": "CB8V0FjIJMOg"
      },
      "source": [
        "regressor.score(X_treinamento, y_treinamento)"
      ],
      "execution_count": null,
      "outputs": []
    },
    {
      "cell_type": "code",
      "metadata": {
        "id": "ob5ZvS2-JNoa"
      },
      "source": [
        "regressor.score(X_teste, y_teste)"
      ],
      "execution_count": null,
      "outputs": []
    },
    {
      "cell_type": "markdown",
      "metadata": {
        "id": "d6jrRa4EKF_p"
      },
      "source": [
        "### Seleção de atributos\n",
        "\n",
        "- https://scikit-learn.org/stable/modules/generated/sklearn.feature_selection.SelectFdr.html"
      ]
    },
    {
      "cell_type": "code",
      "metadata": {
        "id": "uLXNcNwcKGy1"
      },
      "source": [
        "from sklearn.feature_selection import SelectFdr, f_regression\n",
        "selecao = SelectFdr(f_regression, alpha = 0.0)\n",
        "X_novo = selecao.fit_transform(X, y)\n",
        "X.shape, X_novo.shape"
      ],
      "execution_count": null,
      "outputs": []
    },
    {
      "cell_type": "code",
      "metadata": {
        "id": "UobKftIWLCky"
      },
      "source": [
        "selecao.pvalues_"
      ],
      "execution_count": null,
      "outputs": []
    },
    {
      "cell_type": "code",
      "metadata": {
        "id": "8T2a4UsRKKNK"
      },
      "source": [
        "colunas = selecao.get_support()\n",
        "colunas"
      ],
      "execution_count": null,
      "outputs": []
    },
    {
      "cell_type": "code",
      "metadata": {
        "id": "EqE0xv1WKMAq"
      },
      "source": [
        "dataset.columns[1:17]"
      ],
      "execution_count": null,
      "outputs": []
    },
    {
      "cell_type": "code",
      "metadata": {
        "id": "2oKjLdLtKNkc"
      },
      "source": [
        "dataset.columns[1:17][colunas == True]"
      ],
      "execution_count": null,
      "outputs": []
    },
    {
      "cell_type": "code",
      "metadata": {
        "id": "3NGiEw_eKPSJ"
      },
      "source": [
        "from sklearn.model_selection import train_test_split\n",
        "from sklearn.linear_model import LinearRegression\n",
        "X_treinamento, X_teste, y_treinamento, y_teste = train_test_split(X_novo, y, test_size = 0.2, random_state = 1)\n",
        "regressor = LinearRegression()\n",
        "regressor.fit(X_treinamento, y_treinamento)"
      ],
      "execution_count": null,
      "outputs": []
    },
    {
      "cell_type": "code",
      "metadata": {
        "id": "VUZR8sv_KQ6h"
      },
      "source": [
        "regressor.score(X_treinamento, y_treinamento)"
      ],
      "execution_count": null,
      "outputs": []
    },
    {
      "cell_type": "code",
      "metadata": {
        "id": "7YxzLljXKSJV"
      },
      "source": [
        "regressor.score(X_teste, y_teste)"
      ],
      "execution_count": null,
      "outputs": []
    }
  ]
}